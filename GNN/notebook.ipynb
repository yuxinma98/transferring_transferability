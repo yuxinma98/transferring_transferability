{
 "cells": [
  {
   "cell_type": "code",
   "execution_count": 43,
   "metadata": {},
   "outputs": [],
   "source": [
    "from torch_geometric.datasets import planetoid\n",
    "from torch_geometric.loader import DataLoader\n",
    "import torch_geometric as pyg"
   ]
  },
  {
   "cell_type": "code",
   "execution_count": 44,
   "metadata": {},
   "outputs": [
    {
     "name": "stderr",
     "output_type": "stream",
     "text": [
      "Downloading https://github.com/kimiyoung/planetoid/raw/master/data/ind.pubmed.x\n",
      "Downloading https://github.com/kimiyoung/planetoid/raw/master/data/ind.pubmed.tx\n",
      "Downloading https://github.com/kimiyoung/planetoid/raw/master/data/ind.pubmed.allx\n",
      "Downloading https://github.com/kimiyoung/planetoid/raw/master/data/ind.pubmed.y\n",
      "Downloading https://github.com/kimiyoung/planetoid/raw/master/data/ind.pubmed.ty\n",
      "Downloading https://github.com/kimiyoung/planetoid/raw/master/data/ind.pubmed.ally\n",
      "Downloading https://github.com/kimiyoung/planetoid/raw/master/data/ind.pubmed.graph\n",
      "Downloading https://github.com/kimiyoung/planetoid/raw/master/data/ind.pubmed.test.index\n",
      "Processing...\n",
      "Done!\n"
     ]
    }
   ],
   "source": [
    "dataset = planetoid.Planetoid(root='data/', name='PubMed', split=\"full\")\n",
    "loader = DataLoader(dataset, batch_size=32, shuffle=True)"
   ]
  },
  {
   "cell_type": "code",
   "execution_count": 45,
   "metadata": {},
   "outputs": [
    {
     "data": {
      "text/plain": [
       "Data(x=[19717, 500], edge_index=[2, 88648], y=[19717], train_mask=[19717], val_mask=[19717], test_mask=[19717])"
      ]
     },
     "execution_count": 45,
     "metadata": {},
     "output_type": "execute_result"
    }
   ],
   "source": [
    "dataset[0]"
   ]
  },
  {
   "cell_type": "code",
   "execution_count": 47,
   "metadata": {},
   "outputs": [
    {
     "name": "stderr",
     "output_type": "stream",
     "text": [
      "Downloading https://data.dgl.ai/dataset/reddit.zip\n",
      "Extracting data/Reddit/raw/reddit.zip\n",
      "Processing...\n",
      "Done!\n"
     ]
    },
    {
     "data": {
      "text/plain": [
       "Data(x=[232965, 602], edge_index=[2, 114615892], y=[232965], train_mask=[232965], val_mask=[232965], test_mask=[232965])"
      ]
     },
     "execution_count": 47,
     "metadata": {},
     "output_type": "execute_result"
    }
   ],
   "source": [
    "from torch_geometric.datasets import Reddit\n",
    "dataset = Reddit(root='data/Reddit')\n",
    "dataset[0]"
   ]
  },
  {
   "cell_type": "code",
   "execution_count": 4,
   "metadata": {},
   "outputs": [
    {
     "data": {
      "text/plain": [
       "torch.Size([2708])"
      ]
     },
     "execution_count": 4,
     "metadata": {},
     "output_type": "execute_result"
    }
   ],
   "source": [
    "dataset.train_mask.shape"
   ]
  },
  {
   "cell_type": "code",
   "execution_count": 5,
   "metadata": {},
   "outputs": [],
   "source": [
    "data = dataset[0]\n",
    "W = pyg.utils.to_dense_adj(data.edge_index)\n",
    "f = data.x\n",
    "target = data.y"
   ]
  },
  {
   "cell_type": "code",
   "execution_count": 6,
   "metadata": {},
   "outputs": [
    {
     "data": {
      "text/plain": [
       "torch.Size([1, 2708, 2708])"
      ]
     },
     "execution_count": 6,
     "metadata": {},
     "output_type": "execute_result"
    }
   ],
   "source": [
    "W.shape"
   ]
  },
  {
   "cell_type": "code",
   "execution_count": 7,
   "metadata": {},
   "outputs": [
    {
     "data": {
      "text/plain": [
       "torch.Size([1, 1208, 1208])"
      ]
     },
     "execution_count": 7,
     "metadata": {},
     "output_type": "execute_result"
    }
   ],
   "source": [
    "A = W[:, dataset.train_mask, :][:,:,dataset.train_mask]\n",
    "A.shape"
   ]
  },
  {
   "cell_type": "code",
   "execution_count": 8,
   "metadata": {},
   "outputs": [
    {
     "data": {
      "text/plain": [
       "tensor([ True,  True,  True,  ..., False, False, False])"
      ]
     },
     "execution_count": 8,
     "metadata": {},
     "output_type": "execute_result"
    }
   ],
   "source": [
    "data.train_mask"
   ]
  },
  {
   "cell_type": "code",
   "execution_count": 9,
   "metadata": {},
   "outputs": [
    {
     "ename": "NameError",
     "evalue": "name 'to_dense_adj' is not defined",
     "output_type": "error",
     "traceback": [
      "\u001b[0;31m---------------------------------------------------------------------------\u001b[0m",
      "\u001b[0;31mNameError\u001b[0m                                 Traceback (most recent call last)",
      "Cell \u001b[0;32mIn[9], line 1\u001b[0m\n\u001b[0;32m----> 1\u001b[0m W \u001b[38;5;241m=\u001b[39m \u001b[43mto_dense_adj\u001b[49m(data\u001b[38;5;241m.\u001b[39medge_index)\n\u001b[1;32m      2\u001b[0m f \u001b[38;5;241m=\u001b[39m data\u001b[38;5;241m.\u001b[39mx\n\u001b[1;32m      3\u001b[0m target \u001b[38;5;241m=\u001b[39m data\u001b[38;5;241m.\u001b[39my\n",
      "\u001b[0;31mNameError\u001b[0m: name 'to_dense_adj' is not defined"
     ]
    }
   ],
   "source": [
    "W = to_dense_adj(data.edge_index)\n",
    "f = data.x\n",
    "target = data.y"
   ]
  },
  {
   "cell_type": "code",
   "execution_count": null,
   "metadata": {},
   "outputs": [
    {
     "data": {
      "text/plain": [
       "torch.Size([2708])"
      ]
     },
     "execution_count": 24,
     "metadata": {},
     "output_type": "execute_result"
    }
   ],
   "source": [
    "target.shape"
   ]
  },
  {
   "cell_type": "code",
   "execution_count": null,
   "metadata": {},
   "outputs": [
    {
     "name": "stdout",
     "output_type": "stream",
     "text": [
      "torch.Size([2708, 1433])\n",
      "torch.Size([2708])\n",
      "torch.Size([2, 10556])\n"
     ]
    }
   ],
   "source": [
    "print(dataset.x.shape)\n",
    "print(dataset.y.shape)\n",
    "print(dataset.edge_index.shape)"
   ]
  },
  {
   "cell_type": "code",
   "execution_count": null,
   "metadata": {},
   "outputs": [
    {
     "name": "stdout",
     "output_type": "stream",
     "text": [
      "tensor([ 9., 23., 19.,  ..., 18., 14., 13.])\n"
     ]
    }
   ],
   "source": [
    "print(dataset.x.sum(1))"
   ]
  },
  {
   "cell_type": "code",
   "execution_count": null,
   "metadata": {},
   "outputs": [
    {
     "name": "stdout",
     "output_type": "stream",
     "text": [
      "(tensor([0, 1, 2, 3, 4, 5, 6]), tensor([351, 217, 418, 818, 426, 298, 180]))\n"
     ]
    }
   ],
   "source": [
    "print(dataset.y.unique(return_counts=True))"
   ]
  },
  {
   "cell_type": "code",
   "execution_count": null,
   "metadata": {},
   "outputs": [
    {
     "name": "stdout",
     "output_type": "stream",
     "text": [
      "tensor(140)\n",
      "tensor(500)\n",
      "tensor(1000)\n"
     ]
    }
   ],
   "source": [
    "print(dataset.train_mask.sum())\n",
    "print(dataset.val_mask.sum())\n",
    "print(dataset.test_mask.sum())"
   ]
  },
  {
   "cell_type": "code",
   "execution_count": null,
   "metadata": {},
   "outputs": [
    {
     "name": "stdout",
     "output_type": "stream",
     "text": [
      "Data(x=[2708, 1433], edge_index=[2, 10556], y=[2708], train_mask=[2708], val_mask=[2708], test_mask=[2708])\n"
     ]
    }
   ],
   "source": [
    "data = dataset[0]\n",
    "print(data)"
   ]
  },
  {
   "cell_type": "code",
   "execution_count": null,
   "metadata": {},
   "outputs": [
    {
     "name": "stdout",
     "output_type": "stream",
     "text": [
      "torch.Size([1, 270, 270])\n"
     ]
    }
   ],
   "source": [
    "from torch_geometric.utils import subgraph\n",
    "import torch\n",
    "\n",
    "num_nodes = data.num_nodes\n",
    "sample_size = num_nodes // 10  # 1/10 of the nodes\n",
    "data.A = pyg.utils.to_dense_adj(data.edge_index)[0]\n",
    "sampled_nodes = torch.randperm(num_nodes)[:sample_size]\n",
    "subgraph_edge_index, subgraph_edge_attr = subgraph(sampled_nodes, data.edge_index, data.edge_attr)\n",
    "subgraph_data = data.clone()\n",
    "subgraph_data.edge_index = subgraph_edge_index\n",
    "subgraph_data.edge_attr = subgraph_edge_attr\n",
    "subgraph_data.x = data.x[sampled_nodes]\n",
    "subgraph_data.y = data.y[sampled_nodes]\n",
    "subgraph_data.train_mask = data.train_mask[sampled_nodes]\n",
    "subgraph_data.val_mask = data.val_mask[sampled_nodes]\n",
    "subgraph_data.test_mask = data.test_mask[sampled_nodes]\n",
    "subgraph_data.A = pyg.utils.to_dense_adj(data.edge_index)[:, sampled_nodes, :][:, :, sampled_nodes]\n",
    "print(subgraph_data.A.shape)"
   ]
  },
  {
   "cell_type": "code",
   "execution_count": null,
   "metadata": {},
   "outputs": [
    {
     "name": "stderr",
     "output_type": "stream",
     "text": [
      "/cis/home/yma93/miniconda3/envs/ml/lib/python3.9/site-packages/torch_geometric/data/in_memory_dataset.py:157: UserWarning: It is not recommended to directly access the internal storage format `data` of an 'InMemoryDataset'. If you are absolutely certain what you are doing, access the internal storage via `InMemoryDataset._data` instead to suppress this warning. Alternatively, you can access stacked individual attributes of every graph via `dataset.{attr_name}`.\n",
      "  warnings.warn(msg)\n"
     ]
    },
    {
     "data": {
      "text/plain": [
       "Data(x=[2708, 1433], edge_index=[2, 10556], y=[2708], train_mask=[2708], val_mask=[2708], test_mask=[2708])"
      ]
     },
     "execution_count": 63,
     "metadata": {},
     "output_type": "execute_result"
    }
   ],
   "source": [
    "dataset.data"
   ]
  },
  {
   "cell_type": "code",
   "execution_count": null,
   "metadata": {},
   "outputs": [
    {
     "data": {
      "text/plain": [
       "torch.Size([1, 2708, 2708])"
      ]
     },
     "execution_count": 55,
     "metadata": {},
     "output_type": "execute_result"
    }
   ],
   "source": [
    "pyg.utils.to_dense_adj(data.edge_index).shape"
   ]
  },
  {
   "cell_type": "code",
   "execution_count": null,
   "metadata": {},
   "outputs": [
    {
     "name": "stdout",
     "output_type": "stream",
     "text": [
      "tensor(75)\n"
     ]
    }
   ],
   "source": [
    "\n",
    "A = pyg.utils.to_dense_adj(subgraph_data.edge_index)\n",
    "degree = A.sum(dim=1).squeeze(dim=0)\n",
    "print((degree>0).sum())"
   ]
  },
  {
   "cell_type": "code",
   "execution_count": null,
   "metadata": {},
   "outputs": [
    {
     "name": "stdout",
     "output_type": "stream",
     "text": [
      "Data(x=[270, 1433], edge_index=[2, 96], y=[270], train_mask=[270], val_mask=[270], test_mask=[270])\n",
      "tensor(10)\n",
      "tensor(53)\n",
      "tensor(105)\n"
     ]
    }
   ],
   "source": [
    "print(subgraph_data)\n",
    "print(subgraph_data.train_mask.sum())\n",
    "print(subgraph_data.val_mask.sum())\n",
    "print(subgraph_data.test_mask.sum())"
   ]
  },
  {
   "cell_type": "code",
   "execution_count": null,
   "metadata": {},
   "outputs": [
    {
     "name": "stdout",
     "output_type": "stream",
     "text": [
      "tensor([[[-2.4455,  1.0693, -1.5900],\n",
      "         [ 1.3882,  0.1906,  0.7937],\n",
      "         [-0.5306,  0.7166, -0.5505]]])\n",
      "tensor([[[-0.5627, -1.5600],\n",
      "         [-1.5452,  0.0567],\n",
      "         [ 2.1319, -1.7710]]])\n"
     ]
    }
   ],
   "source": [
    "import torch\n",
    "\n",
    "A = torch.randn(1,3,3)\n",
    "X = torch.randn(1,3,2)\n",
    "print(A)\n",
    "print(X)\n",
    "n = A.shape[-1]  # extract dimension\n",
    "        \n",
    "# Compute basis\n",
    "A = A.unsqueeze(dim=1) # N x 1 x n x n\n",
    "X = X.transpose(-2, -1) # N x D1 x n\n",
    "diag_part = torch.diagonal(A, dim1=-2, dim2=-1)   # N x 1 x n\n",
    "mean_diag_part = torch.mean(diag_part, dim=-1).unsqueeze(dim=-1)  # N x 1 x 1\n",
    "mean_of_cols = torch.mean(A, dim=-1)  # N x 1 x n\n",
    "mean_all = torch.mean(mean_of_cols, dim=-1).unsqueeze(dim=-1)  # N x 1 x 1\n",
    "mean_X = torch.mean(X, dim=-1).unsqueeze(dim=-1) #N x D1 x 1\n",
    "a1 = A\n",
    "a2 = mean_all.unsqueeze(dim=-1).expand(-1, -1, n, n)\n",
    "a3 = mean_diag_part.unsqueeze(dim=-1).expand(-1, -1, n, n)\n",
    "a4 = mean_of_cols.unsqueeze(dim=-1).expand(-1, -1, n, n) + mean_of_cols.unsqueeze(dim=-2).expand(-1, -1, n, n)\n",
    "a5 = diag_part.unsqueeze(dim=-1).expand(-1, -1, n, n) + diag_part.unsqueeze(dim=-2).expand(-1, -1, n, n)\n",
    "a6 = X.unsqueeze(dim=-1).expand(-1, -1, n, n) + X.unsqueeze(dim=-2).expand(-1, -1, n, n) # N x D1 x n x n\n",
    "a7 = mean_X.unsqueeze(dim=-1).expand(-1, -1, n, n) # N x D1 x n x n"
   ]
  },
  {
   "cell_type": "code",
   "execution_count": null,
   "metadata": {},
   "outputs": [
    {
     "data": {
      "text/plain": [
       "tensor([[[[-1.1254, -2.1079,  1.5692],\n",
       "          [-2.1079, -3.0905,  0.5867],\n",
       "          [ 1.5692,  0.5867,  4.2638]],\n",
       "\n",
       "         [[-3.1201, -1.5033, -3.3310],\n",
       "          [-1.5033,  0.1134, -1.7143],\n",
       "          [-3.3310, -1.7143, -3.5420]]]])"
      ]
     },
     "execution_count": 12,
     "metadata": {},
     "output_type": "execute_result"
    }
   ],
   "source": [
    "a6"
   ]
  },
  {
   "cell_type": "code",
   "execution_count": null,
   "metadata": {},
   "outputs": [
    {
     "data": {
      "text/plain": [
       "tensor([[[-0.9887,  0.7908, -0.1215]]])"
      ]
     },
     "execution_count": 10,
     "metadata": {},
     "output_type": "execute_result"
    }
   ],
   "source": [
    "mean_of_cols"
   ]
  },
  {
   "cell_type": "code",
   "execution_count": null,
   "metadata": {},
   "outputs": [],
   "source": [
    "import data\n",
    "import numpy as np\n",
    "X, idxContact = data.load_data(movie=405, min_ratings=200)\n",
    "N = X.shape[1]"
   ]
  },
  {
   "cell_type": "code",
   "execution_count": null,
   "metadata": {},
   "outputs": [
    {
     "name": "stdout",
     "output_type": "stream",
     "text": [
      "(943, 118)\n"
     ]
    }
   ],
   "source": [
    "print(X.shape)"
   ]
  },
  {
   "cell_type": "code",
   "execution_count": null,
   "metadata": {},
   "outputs": [],
   "source": [
    "\n",
    "# Creating and sparsifying the graph\n",
    "\n",
    "nTotal = X.shape[0]\n",
    "permutation = np.random.permutation(nTotal)\n",
    "nTrain = int(np.ceil(0.9*nTotal))\n",
    "idxTrain = permutation[0:nTrain]\n",
    "nTest = nTotal-nTrain\n",
    "idxTest=permutation[nTrain:nTotal]\n",
    "\n",
    "W = data.create_graph(X=X, idxTrain=idxTrain, knn=40)\n",
    "\n",
    "# Creating the training and test sets\n",
    "\n",
    "xTrain, yTrain, xTest, yTest = data.split_data(X, idxTrain, idxTest, idxContact)\n",
    "nTrain = xTrain.shape[0]\n",
    "nTest = xTest.shape[0]"
   ]
  },
  {
   "cell_type": "code",
   "execution_count": null,
   "metadata": {},
   "outputs": [
    {
     "data": {
      "text/plain": [
       "array([[0.        , 0.        , 0.        , ..., 0.0242602 , 0.        ,\n",
       "        0.        ],\n",
       "       [0.02562432, 0.        , 0.        , ..., 0.02433118, 0.        ,\n",
       "        0.        ],\n",
       "       [0.02596162, 0.        , 0.        , ..., 0.        , 0.        ,\n",
       "        0.        ],\n",
       "       ...,\n",
       "       [0.02488369, 0.        , 0.        , ..., 0.        , 0.02698323,\n",
       "        0.        ],\n",
       "       [0.        , 0.        , 0.        , ..., 0.02561502, 0.        ,\n",
       "        0.        ],\n",
       "       [0.02913293, 0.        , 0.02759221, ..., 0.        , 0.02910579,\n",
       "        0.        ]])"
      ]
     },
     "execution_count": 10,
     "metadata": {},
     "output_type": "execute_result"
    }
   ],
   "source": [
    "W"
   ]
  },
  {
   "cell_type": "code",
   "execution_count": null,
   "metadata": {},
   "outputs": [
    {
     "data": {
      "text/plain": [
       "GNN(\n",
       "  (act): ReLU()\n",
       "  (layers): ModuleList(\n",
       "    (0): GNN_layer(\n",
       "      (A_l1): Linear(in_features=5, out_features=1, bias=False)\n",
       "      (A_l2): Linear(in_features=5, out_features=1, bias=False)\n",
       "      (X1_l1): Linear(in_features=5, out_features=5, bias=False)\n",
       "      (X1_l2): Linear(in_features=5, out_features=5, bias=False)\n",
       "      (X1_l3): Linear(in_features=1, out_features=5, bias=False)\n",
       "      (X1_l4): Linear(in_features=1, out_features=5, bias=False)\n",
       "      (X1_l5): Linear(in_features=1, out_features=5, bias=False)\n",
       "      (X1_l6): Linear(in_features=1, out_features=5, bias=False)\n",
       "      (X2_l1): Linear(in_features=5, out_features=5, bias=False)\n",
       "      (X2_l2): Linear(in_features=5, out_features=5, bias=False)\n",
       "      (X2_l3): Linear(in_features=1, out_features=5, bias=False)\n",
       "      (X2_l4): Linear(in_features=1, out_features=5, bias=False)\n",
       "      (X2_l5): Linear(in_features=1, out_features=5, bias=False)\n",
       "      (X2_l6): Linear(in_features=1, out_features=5, bias=False)\n",
       "    )\n",
       "    (1): ReLU()\n",
       "    (2): GNN_layer(\n",
       "      (A_l1): Linear(in_features=5, out_features=1, bias=False)\n",
       "      (A_l2): Linear(in_features=5, out_features=1, bias=False)\n",
       "      (X1_l1): Linear(in_features=5, out_features=5, bias=False)\n",
       "      (X1_l2): Linear(in_features=5, out_features=5, bias=False)\n",
       "      (X1_l3): Linear(in_features=1, out_features=5, bias=False)\n",
       "      (X1_l4): Linear(in_features=1, out_features=5, bias=False)\n",
       "      (X1_l5): Linear(in_features=1, out_features=5, bias=False)\n",
       "      (X1_l6): Linear(in_features=1, out_features=5, bias=False)\n",
       "      (X2_l1): Linear(in_features=5, out_features=5, bias=False)\n",
       "      (X2_l2): Linear(in_features=5, out_features=5, bias=False)\n",
       "      (X2_l3): Linear(in_features=1, out_features=5, bias=False)\n",
       "      (X2_l4): Linear(in_features=1, out_features=5, bias=False)\n",
       "      (X2_l5): Linear(in_features=1, out_features=5, bias=False)\n",
       "      (X2_l6): Linear(in_features=1, out_features=5, bias=False)\n",
       "    )\n",
       "    (3): ReLU()\n",
       "    (4): GNN_layer(\n",
       "      (A_l1): Linear(in_features=5, out_features=1, bias=False)\n",
       "      (A_l2): Linear(in_features=5, out_features=1, bias=False)\n",
       "      (X1_l1): Linear(in_features=5, out_features=1, bias=False)\n",
       "      (X1_l2): Linear(in_features=5, out_features=1, bias=False)\n",
       "      (X1_l3): Linear(in_features=1, out_features=1, bias=False)\n",
       "      (X1_l4): Linear(in_features=1, out_features=1, bias=False)\n",
       "      (X1_l5): Linear(in_features=1, out_features=1, bias=False)\n",
       "      (X1_l6): Linear(in_features=1, out_features=1, bias=False)\n",
       "      (X2_l1): Linear(in_features=5, out_features=1, bias=False)\n",
       "      (X2_l2): Linear(in_features=5, out_features=1, bias=False)\n",
       "      (X2_l3): Linear(in_features=1, out_features=1, bias=False)\n",
       "      (X2_l4): Linear(in_features=1, out_features=1, bias=False)\n",
       "      (X2_l5): Linear(in_features=1, out_features=1, bias=False)\n",
       "      (X2_l6): Linear(in_features=1, out_features=1, bias=False)\n",
       "    )\n",
       "  )\n",
       ")"
      ]
     },
     "execution_count": 46,
     "metadata": {},
     "output_type": "execute_result"
    }
   ],
   "source": [
    "import torch\n",
    "import os\n",
    "import numpy as np\n",
    "import matplotlib.pyplot as plt\n",
    "import networkx as nx\n",
    "\n",
    "from model import GNN\n",
    "\n",
    "d = 5\n",
    "n_samples = 100\n",
    "p = 0.5\n",
    "M = int(1e4)  # reference graph size, set to a large number as estimated cts limit\n",
    "log_n_range = np.arange(1, 4, 0.2)\n",
    "\n",
    "# fix a Gaussian distribution for features\n",
    "L = torch.randn(d, d)\n",
    "mu = torch.randn(d)\n",
    "cov = L @ L.T\n",
    "multivariate_normal = torch.distributions.MultivariateNormal(mu, cov)\n",
    "\n",
    "# fix a model with random weights\n",
    "model = GNN(in_channels=d, out_channels=1, hidden_channels = 5, num_layers = 3, reduced=False)\n",
    "model.eval()\n",
    "\n"
   ]
  },
  {
   "cell_type": "code",
   "execution_count": null,
   "metadata": {},
   "outputs": [],
   "source": [
    "references = np.zeros(n_samples)\n",
    "for i in range(n_samples):\n",
    "    A = bernoulli.sample((M, M)).float()\n",
    "    A = A.tril(diagonal=-1) + A.tril(diagonal=-1).T\n",
    "    A = A.unsqueeze(0)\n",
    "    X = multivariate_normal.sample((M,)).unsqueeze(0)\n",
    "    with torch.no_grad():\n",
    "        references[i] = model(A, X).mean()\n",
    "    "
   ]
  },
  {
   "cell_type": "code",
   "execution_count": null,
   "metadata": {},
   "outputs": [
    {
     "name": "stdout",
     "output_type": "stream",
     "text": [
      "-37.84013080596924\n"
     ]
    }
   ],
   "source": [
    "reference = float(references.mean())\n",
    "print(reference)"
   ]
  },
  {
   "cell_type": "code",
   "execution_count": null,
   "metadata": {},
   "outputs": [
    {
     "data": {
      "image/png": "[encoded data removed]",
      "text/plain": [
       "<Figure size 640x480 with 1 Axes>"
      ]
     },
     "metadata": {},
     "output_type": "display_data"
    }
   ],
   "source": [
    "log_n_range = np.arange(1, 3, 0.1)\n",
    "# compute errors\n",
    "n_range = np.power(10, log_n_range).astype(int)\n",
    "errors_mean = np.zeros_like(n_range, dtype=float)\n",
    "errors_std = np.zeros_like(n_range, dtype=float)\n",
    "for i, n in enumerate(n_range):\n",
    "    A = bernoulli.sample((n_samples, n, n)).float()\n",
    "    A = A.tril(diagonal=-1) + A.tril(diagonal=-1).transpose(-1, -2)\n",
    "    X = multivariate_normal.sample(\n",
    "        (\n",
    "            n_samples,\n",
    "            n,\n",
    "        )\n",
    "    )\n",
    "    with torch.no_grad():\n",
    "        y = model(A,X).mean(dim=1).squeeze()\n",
    "    error = torch.abs(y - reference)\n",
    "    errors_mean[i] = float(error.mean().squeeze())\n",
    "    errors_std[i] = float(error.std().squeeze())\n",
    "\n",
    "# plot\n",
    "plt.figure()\n",
    "plt.errorbar(n_range, errors_mean, errors_std, fmt=\"o\", capsize=3, markersize=5)\n",
    "y = n_range ** (-0.5) * n_range[0] ** (0.5) * errors_mean[0]\n",
    "plt.plot(n_range, y, label=\"$n^{-0.5}$\")\n",
    "plt.xlabel(\"Set size $n$\")\n",
    "plt.ylabel(\"$|f_n(x) - f_m(x)|$\")\n",
    "plt.legend()\n",
    "plt.xscale(\"log\")\n",
    "plt.yscale(\"log\")\n",
    "plt.show()"
   ]
  },
  {
   "cell_type": "code",
   "execution_count": null,
   "metadata": {},
   "outputs": [
    {
     "data": {
      "text/plain": [
       "torch.Size([100])"
      ]
     },
     "execution_count": 39,
     "metadata": {},
     "output_type": "execute_result"
    }
   ],
   "source": [
    "y.shape"
   ]
  },
  {
   "cell_type": "code",
   "execution_count": 31,
   "metadata": {},
   "outputs": [],
   "source": [
    "import torch\n",
    "import os\n",
    "from torch_geometric.utils import to_dense_adj, dense_to_sparse\n",
    "from torch_geometric.data import InMemoryDataset, Data\n",
    "from torch_geometric.datasets import Planetoid\n",
    "import pdb\n",
    "\n",
    "\n",
    "class SubsampledDataset(InMemoryDataset):\n",
    "    def __init__(self, root, dataset_name, n_samples, n_nodes, transform=None, pre_transform=None):\n",
    "        os.makedirs(root, exist_ok=True)\n",
    "        self.dataset_name = dataset_name\n",
    "        self.n_samples = n_samples\n",
    "        self.n_nodes = n_nodes\n",
    "        super(SubsampledDataset, self).__init__(root, transform, pre_transform)\n",
    "        self.data, self.slices = torch.load(self.processed_paths[0])\n",
    "\n",
    "    @property\n",
    "    def raw_file_names(self):\n",
    "        return [self.dataset_name]\n",
    "\n",
    "    @property\n",
    "    def processed_file_names(self):\n",
    "        return [f\"{self.dataset_name}_{self.n_samples}_{self.n_nodes}.pt\"]\n",
    "\n",
    "    def process(self):\n",
    "        if self.dataset_name == \"Cora\":\n",
    "            data = Planetoid(self.root, \"Cora\")[0]\n",
    "        else:\n",
    "            raise ValueError(f\"Dataset {self.dataset_name} is not supported.\")\n",
    "\n",
    "        W = to_dense_adj(data.edge_index)[:, data.train_mask, :][:, :, data.train_mask]\n",
    "        f = data.x[data.train_mask, :]\n",
    "        target = data.y[data.train_mask]\n",
    "        n = W.shape[-1]\n",
    "        z = torch.randint(0, n, (self.n_samples, self.n_nodes))\n",
    "        data_list = []\n",
    "        for i in range(self.n_samples):\n",
    "            A = torch.zeros(self.n_nodes, self.n_nodes)\n",
    "            X = torch.zeros(self.n_nodes, f.shape[-1])\n",
    "            for j in range(self.n_nodes):\n",
    "                X[j,:] = f[z[i,j],:]\n",
    "                for k in range(self.n_nodes):\n",
    "                    # pdb.set_trace()\n",
    "                    A[j, k] = W[:,z[i,j], z[i,k]]\n",
    "            data_list.append(Data(x=X, edge_index=dense_to_sparse(A)[0], y=target[z[i]]))\n",
    "        torch.save(self.collate(data_list), self.processed_paths[0])"
   ]
  },
  {
   "cell_type": "code",
   "execution_count": 38,
   "metadata": {},
   "outputs": [],
   "source": [
    "dataset = Planetoid(\"data\", \"Cora\")"
   ]
  },
  {
   "cell_type": "code",
   "execution_count": 37,
   "metadata": {},
   "outputs": [
    {
     "data": {
      "text/plain": [
       "Data(x=[100, 1433], edge_index=[2, 20], y=[100])"
      ]
     },
     "execution_count": 37,
     "metadata": {},
     "output_type": "execute_result"
    }
   ],
   "source": [
    "dataset[4]"
   ]
  },
  {
   "cell_type": "code",
   "execution_count": 41,
   "metadata": {},
   "outputs": [
    {
     "ename": "KeyError",
     "evalue": "tensor([ True,  True,  True,  ..., False, False, False])",
     "output_type": "error",
     "traceback": [
      "\u001b[0;31m---------------------------------------------------------------------------\u001b[0m",
      "\u001b[0;31mKeyError\u001b[0m                                  Traceback (most recent call last)",
      "Cell \u001b[0;32mIn[41], line 2\u001b[0m\n\u001b[1;32m      1\u001b[0m data\u001b[38;5;241m=\u001b[39mdataset[\u001b[38;5;241m0\u001b[39m]\n\u001b[0;32m----> 2\u001b[0m \u001b[43mdata\u001b[49m\u001b[43m[\u001b[49m\u001b[43mdataset\u001b[49m\u001b[38;5;241;43m.\u001b[39;49m\u001b[43mtrain_mask\u001b[49m\u001b[43m]\u001b[49m\n",
      "File \u001b[0;32m~/miniconda3/envs/ml/lib/python3.9/site-packages/torch_geometric/data/data.py:457\u001b[0m, in \u001b[0;36mData.__getitem__\u001b[0;34m(self, key)\u001b[0m\n\u001b[1;32m    456\u001b[0m \u001b[38;5;28;01mdef\u001b[39;00m \u001b[38;5;21m__getitem__\u001b[39m(\u001b[38;5;28mself\u001b[39m, key: \u001b[38;5;28mstr\u001b[39m) \u001b[38;5;241m-\u001b[39m\u001b[38;5;241m>\u001b[39m Any:\n\u001b[0;32m--> 457\u001b[0m     \u001b[38;5;28;01mreturn\u001b[39;00m \u001b[38;5;28;43mself\u001b[39;49m\u001b[38;5;241;43m.\u001b[39;49m\u001b[43m_store\u001b[49m\u001b[43m[\u001b[49m\u001b[43mkey\u001b[49m\u001b[43m]\u001b[49m\n",
      "File \u001b[0;32m~/miniconda3/envs/ml/lib/python3.9/site-packages/torch_geometric/data/storage.py:104\u001b[0m, in \u001b[0;36mBaseStorage.__getitem__\u001b[0;34m(self, key)\u001b[0m\n\u001b[1;32m    103\u001b[0m \u001b[38;5;28;01mdef\u001b[39;00m \u001b[38;5;21m__getitem__\u001b[39m(\u001b[38;5;28mself\u001b[39m, key: \u001b[38;5;28mstr\u001b[39m) \u001b[38;5;241m-\u001b[39m\u001b[38;5;241m>\u001b[39m Any:\n\u001b[0;32m--> 104\u001b[0m     \u001b[38;5;28;01mreturn\u001b[39;00m \u001b[38;5;28;43mself\u001b[39;49m\u001b[38;5;241;43m.\u001b[39;49m\u001b[43m_mapping\u001b[49m\u001b[43m[\u001b[49m\u001b[43mkey\u001b[49m\u001b[43m]\u001b[49m\n",
      "\u001b[0;31mKeyError\u001b[0m: tensor([ True,  True,  True,  ..., False, False, False])"
     ]
    }
   ],
   "source": [
    "data=dataset[0]\n",
    "data[dataset.train_mask]"
   ]
  },
  {
   "cell_type": "code",
   "execution_count": null,
   "metadata": {},
   "outputs": [],
   "source": []
  }
 ],
 "metadata": {
  "kernelspec": {
   "display_name": "ml",
   "language": "python",
   "name": "python3"
  },
  "language_info": {
   "codemirror_mode": {
    "name": "ipython",
    "version": 3
   },
   "file_extension": ".py",
   "mimetype": "text/x-python",
   "name": "python",
   "nbconvert_exporter": "python",
   "pygments_lexer": "ipython3",
   "version": "3.9.18"
  }
 },
 "nbformat": 4,
 "nbformat_minor": 2
}
