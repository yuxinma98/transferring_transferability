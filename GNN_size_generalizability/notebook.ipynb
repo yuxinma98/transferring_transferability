{
 "cells": [
  {
   "cell_type": "code",
   "execution_count": 2,
   "metadata": {},
   "outputs": [
    {
     "name": "stderr",
     "output_type": "stream",
     "text": [
      "/cis/home/yma93/miniconda3/envs/ml/lib/python3.9/site-packages/tqdm/auto.py:21: TqdmWarning: IProgress not found. Please update jupyter and ipywidgets. See https://ipywidgets.readthedocs.io/en/stable/user_install.html\n",
      "  from .autonotebook import tqdm as notebook_tqdm\n"
     ]
    }
   ],
   "source": [
    "from data import HomDensityDataset"
   ]
  },
  {
   "cell_type": "code",
   "execution_count": 8,
   "metadata": {},
   "outputs": [
    {
     "data": {
      "text/plain": [
       "tensor([[[ 5.3672e-01],\n",
       "         [ 4.7117e-01],\n",
       "         [-2.9108e-01],\n",
       "         [-6.4163e-01],\n",
       "         [ 2.8833e+00],\n",
       "         [-1.1350e+00],\n",
       "         [ 1.1136e-01],\n",
       "         [ 2.0742e+00],\n",
       "         [-4.4455e-01],\n",
       "         [ 5.4683e-01],\n",
       "         [-8.3550e-01],\n",
       "         [ 2.7250e-02],\n",
       "         [-4.8155e-01],\n",
       "         [ 8.4823e-01],\n",
       "         [-8.4538e-03],\n",
       "         [ 7.4683e-01],\n",
       "         [-1.0725e+00],\n",
       "         [-2.4009e+00],\n",
       "         [ 1.2323e+00],\n",
       "         [-1.1450e+00],\n",
       "         [-2.4605e+00],\n",
       "         [ 5.4516e-01],\n",
       "         [-1.0060e+00],\n",
       "         [ 1.3795e+00],\n",
       "         [ 1.1833e+00],\n",
       "         [ 1.9104e+00],\n",
       "         [-1.3379e+00],\n",
       "         [-1.1162e+00],\n",
       "         [ 1.7203e+00],\n",
       "         [ 1.1544e-03],\n",
       "         [-2.3836e+00],\n",
       "         [ 9.6571e-01],\n",
       "         [ 9.7384e-01],\n",
       "         [-8.8946e-01],\n",
       "         [-7.0840e-01],\n",
       "         [-3.0454e-02],\n",
       "         [ 1.1421e+00],\n",
       "         [ 8.9143e-01],\n",
       "         [ 2.8736e-01],\n",
       "         [-4.6325e-01],\n",
       "         [-2.4197e-01],\n",
       "         [ 5.8388e-01],\n",
       "         [ 4.0588e-01],\n",
       "         [ 1.3695e+00],\n",
       "         [ 1.2140e+00],\n",
       "         [ 2.5681e-01],\n",
       "         [-7.6149e-02],\n",
       "         [ 4.8374e-01],\n",
       "         [ 7.3005e-01],\n",
       "         [-1.6986e-01],\n",
       "         [-3.6068e-01],\n",
       "         [ 1.1122e+00],\n",
       "         [ 1.2940e+00],\n",
       "         [-1.0089e-01],\n",
       "         [-9.9086e-02],\n",
       "         [ 1.0305e-01],\n",
       "         [-1.3754e+00],\n",
       "         [-8.3467e-01],\n",
       "         [ 2.9317e-01],\n",
       "         [ 4.7091e-01],\n",
       "         [ 2.0698e+00],\n",
       "         [-1.4799e+00],\n",
       "         [-6.2041e-01],\n",
       "         [-6.6817e-01],\n",
       "         [-7.1194e-01],\n",
       "         [ 1.8527e+00],\n",
       "         [-3.3154e-01],\n",
       "         [ 6.2610e-01],\n",
       "         [-2.3294e+00],\n",
       "         [-1.4998e+00],\n",
       "         [-4.1128e-01],\n",
       "         [ 1.2862e+00],\n",
       "         [ 6.1728e-01],\n",
       "         [ 7.2937e-01],\n",
       "         [ 4.0955e-01],\n",
       "         [-7.5410e-01],\n",
       "         [ 4.4412e-01],\n",
       "         [ 7.5568e-01],\n",
       "         [ 5.9540e-01],\n",
       "         [ 3.0368e-01]]])"
      ]
     },
     "execution_count": 8,
     "metadata": {},
     "output_type": "execute_result"
    }
   ],
   "source": [
    "data = HomDensityDataset(\"data/\", N=1000, n=80, d=1, graph_model=\"Sociality\", task = \"triangle\", regression_task=\"node\")\n",
    "data[1].x"
   ]
  },
  {
   "cell_type": "code",
   "execution_count": 1,
   "metadata": {},
   "outputs": [
    {
     "name": "stderr",
     "output_type": "stream",
     "text": [
      "/cis/home/yma93/miniconda3/envs/ml/lib/python3.9/site-packages/tqdm/auto.py:21: TqdmWarning: IProgress not found. Please update jupyter and ipywidgets. See https://ipywidgets.readthedocs.io/en/stable/user_install.html\n",
      "  from .autonotebook import tqdm as notebook_tqdm\n"
     ]
    }
   ],
   "source": [
    "import torch\n",
    "from torch_geometric.datasets import Amazon, SNAPDataset\n",
    "from sklearn.cluster import spectral_clustering\n",
    "import torch_geometric.utils as pyg_utils\n",
    "import matplotlib.pyplot as plt\n",
    "from torch_geometric.data import NeighborSampler\n",
    "\n",
    "# Load the dataset\n",
    "dataset = SNAPDataset(root=\"data\", name=\"soc-ca-astroph\")"
   ]
  },
  {
   "cell_type": "code",
   "execution_count": 2,
   "metadata": {},
   "outputs": [
    {
     "data": {
      "text/plain": [
       "1"
      ]
     },
     "execution_count": 2,
     "metadata": {},
     "output_type": "execute_result"
    }
   ],
   "source": [
    "len(dataset)"
   ]
  },
  {
   "cell_type": "code",
   "execution_count": 3,
   "metadata": {},
   "outputs": [],
   "source": [
    "data = dataset[0]"
   ]
  },
  {
   "cell_type": "code",
   "execution_count": 4,
   "metadata": {},
   "outputs": [],
   "source": [
    "N = 1000\n",
    "chosen_nodes = torch.arange(N)\n",
    "mask = (data.edge_index[0] < N) | (data.edge_index[1] < N)\n",
    "filtered_edge_index = data.edge_index[:, mask]"
   ]
  },
  {
   "cell_type": "code",
   "execution_count": 5,
   "metadata": {},
   "outputs": [
    {
     "data": {
      "text/plain": [
       "2657"
      ]
     },
     "execution_count": 5,
     "metadata": {},
     "output_type": "execute_result"
    }
   ],
   "source": [
    "len(filtered_edge_index.unique())"
   ]
  },
  {
   "cell_type": "code",
   "execution_count": 7,
   "metadata": {},
   "outputs": [
    {
     "name": "stdout",
     "output_type": "stream",
     "text": [
      "tensor(0.) tensor(137.) tensor(0.0474)\n"
     ]
    }
   ],
   "source": [
    "A = pyg_utils.to_dense_adj(filtered_edge_index)[0]\n",
    "degree = A.sum(dim=0)\n",
    "print(degree.min(), degree.max(), degree.mean())"
   ]
  },
  {
   "cell_type": "code",
   "execution_count": 16,
   "metadata": {},
   "outputs": [
    {
     "ename": "",
     "evalue": "",
     "output_type": "error",
     "traceback": [
      "\u001b[1;31mThe Kernel crashed while executing code in the current cell or a previous cell. \n",
      "\u001b[1;31mPlease review the code in the cell(s) to identify a possible cause of the failure. \n",
      "\u001b[1;31mClick <a href='https://aka.ms/vscodeJupyterKernelCrash'>here</a> for more info. \n",
      "\u001b[1;31mView Jupyter <a href='command:jupyter.viewOutput'>log</a> for further details."
     ]
    }
   ],
   "source": [
    "degree = A.sum(dim=0)\n",
    "sorted_indices = degree.argsort()\n",
    "A_sorted = A[sorted_indices, : ][:, sorted_indices]"
   ]
  },
  {
   "cell_type": "code",
   "execution_count": 9,
   "metadata": {},
   "outputs": [
    {
     "ename": "",
     "evalue": "",
     "output_type": "error",
     "traceback": [
      "\u001b[1;31mThe Kernel crashed while executing code in the current cell or a previous cell. \n",
      "\u001b[1;31mPlease review the code in the cell(s) to identify a possible cause of the failure. \n",
      "\u001b[1;31mClick <a href='https://aka.ms/vscodeJupyterKernelCrash'>here</a> for more info. \n",
      "\u001b[1;31mView Jupyter <a href='command:jupyter.viewOutput'>log</a> for further details."
     ]
    }
   ],
   "source": [
    "plt.imshow(A)"
   ]
  },
  {
   "cell_type": "code",
   "execution_count": null,
   "metadata": {},
   "outputs": [],
   "source": []
  }
 ],
 "metadata": {
  "kernelspec": {
   "display_name": "ml",
   "language": "python",
   "name": "python3"
  },
  "language_info": {
   "codemirror_mode": {
    "name": "ipython",
    "version": 3
   },
   "file_extension": ".py",
   "mimetype": "text/x-python",
   "name": "python",
   "nbconvert_exporter": "python",
   "pygments_lexer": "ipython3",
   "version": "3.9.18"
  }
 },
 "nbformat": 4,
 "nbformat_minor": 2
}
