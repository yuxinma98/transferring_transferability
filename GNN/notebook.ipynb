{
 "cells": [
  {
   "cell_type": "code",
   "execution_count": 48,
   "metadata": {},
   "outputs": [],
   "source": [
    "from torch_geometric.datasets import planetoid\n",
    "from torch_geometric.loader import DataLoader\n",
    "import torch_geometric as pyg"
   ]
  },
  {
   "cell_type": "code",
   "execution_count": 49,
   "metadata": {},
   "outputs": [],
   "source": [
    "dataset = planetoid.Planetoid(root='data/', name='Cora', split=\"public\")\n",
    "loader = DataLoader(dataset, batch_size=32, shuffle=True)"
   ]
  },
  {
   "cell_type": "code",
   "execution_count": 50,
   "metadata": {},
   "outputs": [
    {
     "name": "stdout",
     "output_type": "stream",
     "text": [
      "torch.Size([2708, 1433])\n",
      "torch.Size([2708])\n",
      "torch.Size([2, 10556])\n"
     ]
    }
   ],
   "source": [
    "print(dataset.x.shape)\n",
    "print(dataset.y.shape)\n",
    "print(dataset.edge_index.shape)"
   ]
  },
  {
   "cell_type": "code",
   "execution_count": 51,
   "metadata": {},
   "outputs": [
    {
     "name": "stdout",
     "output_type": "stream",
     "text": [
      "(tensor([0, 1, 2, 3, 4, 5, 6]), tensor([351, 217, 418, 818, 426, 298, 180]))\n"
     ]
    }
   ],
   "source": [
    "print(dataset.y.unique(return_counts=True))"
   ]
  },
  {
   "cell_type": "code",
   "execution_count": 52,
   "metadata": {},
   "outputs": [
    {
     "name": "stdout",
     "output_type": "stream",
     "text": [
      "tensor(140)\n",
      "tensor(500)\n",
      "tensor(1000)\n"
     ]
    }
   ],
   "source": [
    "print(dataset.train_mask.sum())\n",
    "print(dataset.val_mask.sum())\n",
    "print(dataset.test_mask.sum())"
   ]
  },
  {
   "cell_type": "code",
   "execution_count": 53,
   "metadata": {},
   "outputs": [
    {
     "name": "stdout",
     "output_type": "stream",
     "text": [
      "Data(x=[2708, 1433], edge_index=[2, 10556], y=[2708], train_mask=[2708], val_mask=[2708], test_mask=[2708])\n"
     ]
    }
   ],
   "source": [
    "data = dataset[0]\n",
    "print(data)"
   ]
  },
  {
   "cell_type": "code",
   "execution_count": 59,
   "metadata": {},
   "outputs": [
    {
     "name": "stdout",
     "output_type": "stream",
     "text": [
      "torch.Size([1, 270, 270])\n"
     ]
    }
   ],
   "source": [
    "from torch_geometric.utils import subgraph\n",
    "import torch\n",
    "\n",
    "num_nodes = data.num_nodes\n",
    "sample_size = num_nodes // 10  # 1/10 of the nodes\n",
    "data.A = pyg.utils.to_dense_adj(data.edge_index)[0]\n",
    "sampled_nodes = torch.randperm(num_nodes)[:sample_size]\n",
    "subgraph_edge_index, subgraph_edge_attr = subgraph(sampled_nodes, data.edge_index, data.edge_attr)\n",
    "subgraph_data = data.clone()\n",
    "subgraph_data.edge_index = subgraph_edge_index\n",
    "subgraph_data.edge_attr = subgraph_edge_attr\n",
    "subgraph_data.x = data.x[sampled_nodes]\n",
    "subgraph_data.y = data.y[sampled_nodes]\n",
    "subgraph_data.train_mask = data.train_mask[sampled_nodes]\n",
    "subgraph_data.val_mask = data.val_mask[sampled_nodes]\n",
    "subgraph_data.test_mask = data.test_mask[sampled_nodes]\n",
    "subgraph_data.A = pyg.utils.to_dense_adj(data.edge_index)[:, sampled_nodes, :][:, :, sampled_nodes]\n",
    "print(subgraph_data.A.shape)"
   ]
  },
  {
   "cell_type": "code",
   "execution_count": 63,
   "metadata": {},
   "outputs": [
    {
     "name": "stderr",
     "output_type": "stream",
     "text": [
      "/cis/home/yma93/miniconda3/envs/ml/lib/python3.9/site-packages/torch_geometric/data/in_memory_dataset.py:157: UserWarning: It is not recommended to directly access the internal storage format `data` of an 'InMemoryDataset'. If you are absolutely certain what you are doing, access the internal storage via `InMemoryDataset._data` instead to suppress this warning. Alternatively, you can access stacked individual attributes of every graph via `dataset.{attr_name}`.\n",
      "  warnings.warn(msg)\n"
     ]
    },
    {
     "data": {
      "text/plain": [
       "Data(x=[2708, 1433], edge_index=[2, 10556], y=[2708], train_mask=[2708], val_mask=[2708], test_mask=[2708])"
      ]
     },
     "execution_count": 63,
     "metadata": {},
     "output_type": "execute_result"
    }
   ],
   "source": [
    "dataset.data"
   ]
  },
  {
   "cell_type": "code",
   "execution_count": 55,
   "metadata": {},
   "outputs": [
    {
     "data": {
      "text/plain": [
       "torch.Size([1, 2708, 2708])"
      ]
     },
     "execution_count": 55,
     "metadata": {},
     "output_type": "execute_result"
    }
   ],
   "source": [
    "pyg.utils.to_dense_adj(data.edge_index).shape"
   ]
  },
  {
   "cell_type": "code",
   "execution_count": 47,
   "metadata": {},
   "outputs": [
    {
     "name": "stdout",
     "output_type": "stream",
     "text": [
      "tensor(75)\n"
     ]
    }
   ],
   "source": [
    "\n",
    "A = pyg.utils.to_dense_adj(subgraph_data.edge_index)\n",
    "degree = A.sum(dim=1).squeeze(dim=0)\n",
    "print((degree>0).sum())"
   ]
  },
  {
   "cell_type": "code",
   "execution_count": 42,
   "metadata": {},
   "outputs": [
    {
     "name": "stdout",
     "output_type": "stream",
     "text": [
      "Data(x=[270, 1433], edge_index=[2, 96], y=[270], train_mask=[270], val_mask=[270], test_mask=[270])\n",
      "tensor(10)\n",
      "tensor(53)\n",
      "tensor(105)\n"
     ]
    }
   ],
   "source": [
    "print(subgraph_data)\n",
    "print(subgraph_data.train_mask.sum())\n",
    "print(subgraph_data.val_mask.sum())\n",
    "print(subgraph_data.test_mask.sum())"
   ]
  },
  {
   "cell_type": "code",
   "execution_count": 4,
   "metadata": {},
   "outputs": [
    {
     "name": "stdout",
     "output_type": "stream",
     "text": [
      "tensor([[[-2.4455,  1.0693, -1.5900],\n",
      "         [ 1.3882,  0.1906,  0.7937],\n",
      "         [-0.5306,  0.7166, -0.5505]]])\n",
      "tensor([[[-0.5627, -1.5600],\n",
      "         [-1.5452,  0.0567],\n",
      "         [ 2.1319, -1.7710]]])\n"
     ]
    }
   ],
   "source": [
    "import torch\n",
    "\n",
    "A = torch.randn(1,3,3)\n",
    "X = torch.randn(1,3,2)\n",
    "print(A)\n",
    "print(X)\n",
    "n = A.shape[-1]  # extract dimension\n",
    "        \n",
    "# Compute basis\n",
    "A = A.unsqueeze(dim=1) # N x 1 x n x n\n",
    "X = X.transpose(-2, -1) # N x D1 x n\n",
    "diag_part = torch.diagonal(A, dim1=-2, dim2=-1)   # N x 1 x n\n",
    "mean_diag_part = torch.mean(diag_part, dim=-1).unsqueeze(dim=-1)  # N x 1 x 1\n",
    "mean_of_cols = torch.mean(A, dim=-1)  # N x 1 x n\n",
    "mean_all = torch.mean(mean_of_cols, dim=-1).unsqueeze(dim=-1)  # N x 1 x 1\n",
    "mean_X = torch.mean(X, dim=-1).unsqueeze(dim=-1) #N x D1 x 1\n",
    "a1 = A\n",
    "a2 = mean_all.unsqueeze(dim=-1).expand(-1, -1, n, n)\n",
    "a3 = mean_diag_part.unsqueeze(dim=-1).expand(-1, -1, n, n)\n",
    "a4 = mean_of_cols.unsqueeze(dim=-1).expand(-1, -1, n, n) + mean_of_cols.unsqueeze(dim=-2).expand(-1, -1, n, n)\n",
    "a5 = diag_part.unsqueeze(dim=-1).expand(-1, -1, n, n) + diag_part.unsqueeze(dim=-2).expand(-1, -1, n, n)\n",
    "a6 = X.unsqueeze(dim=-1).expand(-1, -1, n, n) + X.unsqueeze(dim=-2).expand(-1, -1, n, n) # N x D1 x n x n\n",
    "a7 = mean_X.unsqueeze(dim=-1).expand(-1, -1, n, n) # N x D1 x n x n"
   ]
  },
  {
   "cell_type": "code",
   "execution_count": 12,
   "metadata": {},
   "outputs": [
    {
     "data": {
      "text/plain": [
       "tensor([[[[-1.1254, -2.1079,  1.5692],\n",
       "          [-2.1079, -3.0905,  0.5867],\n",
       "          [ 1.5692,  0.5867,  4.2638]],\n",
       "\n",
       "         [[-3.1201, -1.5033, -3.3310],\n",
       "          [-1.5033,  0.1134, -1.7143],\n",
       "          [-3.3310, -1.7143, -3.5420]]]])"
      ]
     },
     "execution_count": 12,
     "metadata": {},
     "output_type": "execute_result"
    }
   ],
   "source": [
    "a6"
   ]
  },
  {
   "cell_type": "code",
   "execution_count": 10,
   "metadata": {},
   "outputs": [
    {
     "data": {
      "text/plain": [
       "tensor([[[-0.9887,  0.7908, -0.1215]]])"
      ]
     },
     "execution_count": 10,
     "metadata": {},
     "output_type": "execute_result"
    }
   ],
   "source": [
    "mean_of_cols"
   ]
  },
  {
   "cell_type": "code",
   "execution_count": 3,
   "metadata": {},
   "outputs": [],
   "source": [
    "import data\n",
    "import numpy as np\n",
    "X, idxContact = data.load_data(movie=405, min_ratings=200)\n",
    "N = X.shape[1]"
   ]
  },
  {
   "cell_type": "code",
   "execution_count": 6,
   "metadata": {},
   "outputs": [
    {
     "name": "stdout",
     "output_type": "stream",
     "text": [
      "(943, 118)\n"
     ]
    }
   ],
   "source": [
    "print(X.shape)"
   ]
  },
  {
   "cell_type": "code",
   "execution_count": 7,
   "metadata": {},
   "outputs": [],
   "source": [
    "\n",
    "# Creating and sparsifying the graph\n",
    "\n",
    "nTotal = X.shape[0]\n",
    "permutation = np.random.permutation(nTotal)\n",
    "nTrain = int(np.ceil(0.9*nTotal))\n",
    "idxTrain = permutation[0:nTrain]\n",
    "nTest = nTotal-nTrain\n",
    "idxTest=permutation[nTrain:nTotal]\n",
    "\n",
    "W = data.create_graph(X=X, idxTrain=idxTrain, knn=40)\n",
    "\n",
    "# Creating the training and test sets\n",
    "\n",
    "xTrain, yTrain, xTest, yTest = data.split_data(X, idxTrain, idxTest, idxContact)\n",
    "nTrain = xTrain.shape[0]\n",
    "nTest = xTest.shape[0]"
   ]
  },
  {
   "cell_type": "code",
   "execution_count": 10,
   "metadata": {},
   "outputs": [
    {
     "data": {
      "text/plain": [
       "array([[0.        , 0.        , 0.        , ..., 0.0242602 , 0.        ,\n",
       "        0.        ],\n",
       "       [0.02562432, 0.        , 0.        , ..., 0.02433118, 0.        ,\n",
       "        0.        ],\n",
       "       [0.02596162, 0.        , 0.        , ..., 0.        , 0.        ,\n",
       "        0.        ],\n",
       "       ...,\n",
       "       [0.02488369, 0.        , 0.        , ..., 0.        , 0.02698323,\n",
       "        0.        ],\n",
       "       [0.        , 0.        , 0.        , ..., 0.02561502, 0.        ,\n",
       "        0.        ],\n",
       "       [0.02913293, 0.        , 0.02759221, ..., 0.        , 0.02910579,\n",
       "        0.        ]])"
      ]
     },
     "execution_count": 10,
     "metadata": {},
     "output_type": "execute_result"
    }
   ],
   "source": [
    "W"
   ]
  },
  {
   "cell_type": "code",
   "execution_count": null,
   "metadata": {},
   "outputs": [],
   "source": []
  }
 ],
 "metadata": {
  "kernelspec": {
   "display_name": "ml",
   "language": "python",
   "name": "python3"
  },
  "language_info": {
   "codemirror_mode": {
    "name": "ipython",
    "version": 3
   },
   "file_extension": ".py",
   "mimetype": "text/x-python",
   "name": "python",
   "nbconvert_exporter": "python",
   "pygments_lexer": "ipython3",
   "version": "3.9.18"
  }
 },
 "nbformat": 4,
 "nbformat_minor": 2
}
