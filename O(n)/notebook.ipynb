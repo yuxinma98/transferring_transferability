{
 "cells": [
  {
   "cell_type": "code",
   "execution_count": 1,
   "metadata": {},
   "outputs": [
    {
     "name": "stderr",
     "output_type": "stream",
     "text": [
      "/cis/home/yma93/miniconda3/envs/ml/lib/python3.9/site-packages/tqdm/auto.py:21: TqdmWarning: IProgress not found. Please update jupyter and ipywidgets. See https://ipywidgets.readthedocs.io/en/stable/user_install.html\n",
      "  from .autonotebook import tqdm as notebook_tqdm\n"
     ]
    }
   ],
   "source": [
    "import torch\n",
    "import pickle\n",
    "import numpy as np\n",
    "import os.path as osp\n",
    "import numpy as np\n",
    "import torch\n",
    "from torch_geometric.data import Data, InMemoryDataset\n",
    "from torch_geometric.loader import DataLoader\n",
    "from torch_geometric.datasets import TUDataset, zinc, QM7b, ModelNet\n",
    "from torch_geometric.utils import (\n",
    "    to_networkx,\n",
    "    homophily,\n",
    "    erdos_renyi_graph,\n",
    "    stochastic_blockmodel_graph,\n",
    "    scatter,\n",
    "    loop,\n",
    ")\n",
    "from torch_geometric.nn import GINConv, global_mean_pool, global_add_pool\n",
    "from torch_geometric.nn.aggr import (\n",
    "    DeepSetsAggregation,\n",
    ")  # key to implement DeepSet input (batch_features, batch_index)\n",
    "from torch_geometric.nn.models import MLP\n",
    "import torch.nn as nn\n",
    "from torch.nn import Linear, Sequential, ReLU, Dropout\n",
    "import torch_geometric.transforms as T\n",
    "import torch.nn.functional as F\n",
    "from torch.optim import SGD\n",
    "from tqdm.auto import tqdm\n",
    "\n",
    "from sklearn.model_selection import KFold\n",
    "from sklearn.model_selection import train_test_split\n",
    "from sklearn.cluster import KMeans\n",
    "\n",
    "data_dir = \"/export/canton/data/yma93/anydim_transferability/OI-DS/\""
   ]
  },
  {
   "cell_type": "markdown",
   "metadata": {},
   "source": [
    "# Data"
   ]
  },
  {
   "cell_type": "code",
   "execution_count": 4,
   "metadata": {},
   "outputs": [],
   "source": [
    "data = pickle.load(\n",
    "    open(\n",
    "        data_dir + \"ModelNet_np_withLabels_pts=100.pkl\",\n",
    "        \"rb\",\n",
    "    )  \n",
    ")\n",
    "train_x, train_y, val_x, val_y = data[\"train_pos\"], data[\"train_y\"], data[\"val_pos\"], data[\"val_y\"]"
   ]
  },
  {
   "cell_type": "code",
   "execution_count": 2,
   "metadata": {},
   "outputs": [],
   "source": [
    "data_dir = \"/export/canton/data/yma93/anydim_transferability/OI-DS/\"\n",
    "import pickle\n",
    "file_path = data_dir + \"LB_GW_test.pkl\"\n",
    "with open(file_path, \"rb\") as file:\n",
    "    try:\n",
    "        file = pickle.load(file)\n",
    "    except Exception as e:\n",
    "        raise RuntimeError(f\"Error loading pickle file: {e}\")\n"
   ]
  },
  {
   "cell_type": "code",
   "execution_count": 3,
   "metadata": {},
   "outputs": [
    {
     "data": {
      "text/plain": [
       "Array([0.1956029 , 0.45575535, 0.38426992, ..., 0.09898844, 0.1533244 ,\n",
       "       0.26663452], dtype=float32)"
      ]
     },
     "execution_count": 3,
     "metadata": {},
     "output_type": "execute_result"
    }
   ],
   "source": [
    "file"
   ]
  },
  {
   "cell_type": "code",
   "execution_count": 8,
   "metadata": {},
   "outputs": [
    {
     "ename": "RuntimeError",
     "evalue": "std::bad_cast",
     "output_type": "error",
     "traceback": [
      "\u001b[0;31m---------------------------------------------------------------------------\u001b[0m",
      "\u001b[0;31mRuntimeError\u001b[0m                              Traceback (most recent call last)",
      "Cell \u001b[0;32mIn[8], line 4\u001b[0m\n\u001b[1;32m      1\u001b[0m \u001b[38;5;66;03m# n_train = len(xtrain_s)\u001b[39;00m\n\u001b[1;32m      2\u001b[0m \u001b[38;5;66;03m# n_test = len(xtest_s)\u001b[39;00m\n\u001b[1;32m      3\u001b[0m \u001b[38;5;66;03m# bs = 40\u001b[39;00m\n\u001b[0;32m----> 4\u001b[0m dist_true_train \u001b[38;5;241m=\u001b[39m \u001b[43mpickle\u001b[49m\u001b[38;5;241;43m.\u001b[39;49m\u001b[43mload\u001b[49m\u001b[43m(\u001b[49m\u001b[38;5;28;43mopen\u001b[39;49m\u001b[43m(\u001b[49m\u001b[43mdata_dir\u001b[49m\u001b[43m \u001b[49m\u001b[38;5;241;43m+\u001b[39;49m\u001b[43m \u001b[49m\u001b[38;5;124;43m\"\u001b[39;49m\u001b[38;5;124;43mLB_GW_train.pkl\u001b[39;49m\u001b[38;5;124;43m\"\u001b[39;49m\u001b[43m,\u001b[49m\u001b[43m \u001b[49m\u001b[38;5;124;43m\"\u001b[39;49m\u001b[38;5;124;43mrb\u001b[39;49m\u001b[38;5;124;43m\"\u001b[39;49m\u001b[43m)\u001b[49m\u001b[43m)\u001b[49m\n\u001b[1;32m      5\u001b[0m dist_true_train \u001b[38;5;241m=\u001b[39m torch\u001b[38;5;241m.\u001b[39mfrom_numpy(np\u001b[38;5;241m.\u001b[39marray(dist_true_train))\u001b[38;5;241m.\u001b[39munsqueeze(\u001b[38;5;241m1\u001b[39m)\n",
      "File \u001b[0;32m~/miniconda3/envs/ml/lib/python3.9/site-packages/jax/_src/array.py:119\u001b[0m, in \u001b[0;36m_reconstruct_array\u001b[0;34m(fun, args, arr_state, aval_state)\u001b[0m\n\u001b[1;32m    117\u001b[0m np_value \u001b[38;5;241m=\u001b[39m fun(\u001b[38;5;241m*\u001b[39margs)\n\u001b[1;32m    118\u001b[0m np_value\u001b[38;5;241m.\u001b[39m__setstate__(arr_state)\n\u001b[0;32m--> 119\u001b[0m jnp_value \u001b[38;5;241m=\u001b[39m \u001b[43mapi\u001b[49m\u001b[38;5;241;43m.\u001b[39;49m\u001b[43mdevice_put\u001b[49m\u001b[43m(\u001b[49m\u001b[43mnp_value\u001b[49m\u001b[43m)\u001b[49m\n\u001b[1;32m    120\u001b[0m jnp_value\u001b[38;5;241m.\u001b[39maval \u001b[38;5;241m=\u001b[39m jnp_value\u001b[38;5;241m.\u001b[39maval\u001b[38;5;241m.\u001b[39mupdate(\u001b[38;5;241m*\u001b[39m\u001b[38;5;241m*\u001b[39maval_state)\n\u001b[1;32m    121\u001b[0m \u001b[38;5;28;01mreturn\u001b[39;00m jnp_value\n",
      "File \u001b[0;32m~/miniconda3/envs/ml/lib/python3.9/site-packages/jax/_src/api.py:2471\u001b[0m, in \u001b[0;36mdevice_put\u001b[0;34m(x, device, src)\u001b[0m\n\u001b[1;32m   2469\u001b[0m \u001b[38;5;28;01mfor\u001b[39;00m xf, d \u001b[38;5;129;01min\u001b[39;00m \u001b[38;5;28mzip\u001b[39m(x_flat, device_flat):\n\u001b[1;32m   2470\u001b[0m   _check_sharding(shaped_abstractify(xf), d)\n\u001b[0;32m-> 2471\u001b[0m out_flat \u001b[38;5;241m=\u001b[39m \u001b[43mdispatch\u001b[49m\u001b[38;5;241;43m.\u001b[39;49m\u001b[43mdevice_put_p\u001b[49m\u001b[38;5;241;43m.\u001b[39;49m\u001b[43mbind\u001b[49m\u001b[43m(\u001b[49m\n\u001b[1;32m   2472\u001b[0m \u001b[43m    \u001b[49m\u001b[38;5;241;43m*\u001b[39;49m\u001b[43mx_flat\u001b[49m\u001b[43m,\u001b[49m\u001b[43m \u001b[49m\u001b[43mdevices\u001b[49m\u001b[38;5;241;43m=\u001b[39;49m\u001b[43mdevice_flat\u001b[49m\u001b[43m,\u001b[49m\u001b[43m \u001b[49m\u001b[43msrcs\u001b[49m\u001b[38;5;241;43m=\u001b[39;49m\u001b[43msrc_flat\u001b[49m\n\u001b[1;32m   2473\u001b[0m \u001b[43m\u001b[49m\u001b[43m)\u001b[49m\n\u001b[1;32m   2474\u001b[0m \u001b[38;5;28;01mreturn\u001b[39;00m tree_unflatten(treedef, out_flat)\n",
      "File \u001b[0;32m~/miniconda3/envs/ml/lib/python3.9/site-packages/jax/_src/core.py:416\u001b[0m, in \u001b[0;36mPrimitive.bind\u001b[0;34m(self, *args, **params)\u001b[0m\n\u001b[1;32m    413\u001b[0m \u001b[38;5;28;01mdef\u001b[39;00m \u001b[38;5;21mbind\u001b[39m(\u001b[38;5;28mself\u001b[39m, \u001b[38;5;241m*\u001b[39margs, \u001b[38;5;241m*\u001b[39m\u001b[38;5;241m*\u001b[39mparams):\n\u001b[1;32m    414\u001b[0m   \u001b[38;5;28;01massert\u001b[39;00m (\u001b[38;5;129;01mnot\u001b[39;00m config\u001b[38;5;241m.\u001b[39menable_checks\u001b[38;5;241m.\u001b[39mvalue \u001b[38;5;129;01mor\u001b[39;00m\n\u001b[1;32m    415\u001b[0m           \u001b[38;5;28mall\u001b[39m(\u001b[38;5;28misinstance\u001b[39m(arg, Tracer) \u001b[38;5;129;01mor\u001b[39;00m valid_jaxtype(arg) \u001b[38;5;28;01mfor\u001b[39;00m arg \u001b[38;5;129;01min\u001b[39;00m args)), args\n\u001b[0;32m--> 416\u001b[0m   \u001b[38;5;28;01mreturn\u001b[39;00m \u001b[38;5;28;43mself\u001b[39;49m\u001b[38;5;241;43m.\u001b[39;49m\u001b[43mbind_with_trace\u001b[49m\u001b[43m(\u001b[49m\u001b[43mfind_top_trace\u001b[49m\u001b[43m(\u001b[49m\u001b[43margs\u001b[49m\u001b[43m)\u001b[49m\u001b[43m,\u001b[49m\u001b[43m \u001b[49m\u001b[43margs\u001b[49m\u001b[43m,\u001b[49m\u001b[43m \u001b[49m\u001b[43mparams\u001b[49m\u001b[43m)\u001b[49m\n",
      "File \u001b[0;32m~/miniconda3/envs/ml/lib/python3.9/site-packages/jax/_src/core.py:420\u001b[0m, in \u001b[0;36mPrimitive.bind_with_trace\u001b[0;34m(self, trace, args, params)\u001b[0m\n\u001b[1;32m    418\u001b[0m \u001b[38;5;28;01mdef\u001b[39;00m \u001b[38;5;21mbind_with_trace\u001b[39m(\u001b[38;5;28mself\u001b[39m, trace, args, params):\n\u001b[1;32m    419\u001b[0m   \u001b[38;5;28;01mwith\u001b[39;00m pop_level(trace\u001b[38;5;241m.\u001b[39mlevel):\n\u001b[0;32m--> 420\u001b[0m     out \u001b[38;5;241m=\u001b[39m \u001b[43mtrace\u001b[49m\u001b[38;5;241;43m.\u001b[39;49m\u001b[43mprocess_primitive\u001b[49m\u001b[43m(\u001b[49m\u001b[38;5;28;43mself\u001b[39;49m\u001b[43m,\u001b[49m\u001b[43m \u001b[49m\u001b[38;5;28;43mmap\u001b[39;49m\u001b[43m(\u001b[49m\u001b[43mtrace\u001b[49m\u001b[38;5;241;43m.\u001b[39;49m\u001b[43mfull_raise\u001b[49m\u001b[43m,\u001b[49m\u001b[43m \u001b[49m\u001b[43margs\u001b[49m\u001b[43m)\u001b[49m\u001b[43m,\u001b[49m\u001b[43m \u001b[49m\u001b[43mparams\u001b[49m\u001b[43m)\u001b[49m\n\u001b[1;32m    421\u001b[0m   \u001b[38;5;28;01mreturn\u001b[39;00m \u001b[38;5;28mmap\u001b[39m(full_lower, out) \u001b[38;5;28;01mif\u001b[39;00m \u001b[38;5;28mself\u001b[39m\u001b[38;5;241m.\u001b[39mmultiple_results \u001b[38;5;28;01melse\u001b[39;00m full_lower(out)\n",
      "File \u001b[0;32m~/miniconda3/envs/ml/lib/python3.9/site-packages/jax/_src/core.py:921\u001b[0m, in \u001b[0;36mEvalTrace.process_primitive\u001b[0;34m(self, primitive, tracers, params)\u001b[0m\n\u001b[1;32m    919\u001b[0m   \u001b[38;5;28;01mreturn\u001b[39;00m call_impl_with_key_reuse_checks(primitive, primitive\u001b[38;5;241m.\u001b[39mimpl, \u001b[38;5;241m*\u001b[39mtracers, \u001b[38;5;241m*\u001b[39m\u001b[38;5;241m*\u001b[39mparams)\n\u001b[1;32m    920\u001b[0m \u001b[38;5;28;01melse\u001b[39;00m:\n\u001b[0;32m--> 921\u001b[0m   \u001b[38;5;28;01mreturn\u001b[39;00m \u001b[43mprimitive\u001b[49m\u001b[38;5;241;43m.\u001b[39;49m\u001b[43mimpl\u001b[49m\u001b[43m(\u001b[49m\u001b[38;5;241;43m*\u001b[39;49m\u001b[43mtracers\u001b[49m\u001b[43m,\u001b[49m\u001b[43m \u001b[49m\u001b[38;5;241;43m*\u001b[39;49m\u001b[38;5;241;43m*\u001b[39;49m\u001b[43mparams\u001b[49m\u001b[43m)\u001b[49m\n",
      "File \u001b[0;32m~/miniconda3/envs/ml/lib/python3.9/site-packages/jax/_src/dispatch.py:496\u001b[0m, in \u001b[0;36m_batched_device_put_impl\u001b[0;34m(devices, srcs, *xs)\u001b[0m\n\u001b[1;32m    491\u001b[0m   ys\u001b[38;5;241m.\u001b[39mappend(y)\n\u001b[1;32m    493\u001b[0m \u001b[38;5;28;01mif\u001b[39;00m shard_arg_xs:\n\u001b[1;32m    494\u001b[0m   \u001b[38;5;66;03m# Batch shard_arg calls. Helps improve efficiency for backends that support\u001b[39;00m\n\u001b[1;32m    495\u001b[0m   \u001b[38;5;66;03m# efficient batch transfer.\u001b[39;00m\n\u001b[0;32m--> 496\u001b[0m   shard_arg_results \u001b[38;5;241m=\u001b[39m \u001b[43mpxla\u001b[49m\u001b[38;5;241;43m.\u001b[39;49m\u001b[43mshard_args\u001b[49m\u001b[43m(\u001b[49m\u001b[43mshard_arg_shardings\u001b[49m\u001b[43m,\u001b[49m\u001b[43m \u001b[49m\u001b[43mshard_arg_xs\u001b[49m\u001b[43m)\u001b[49m\n\u001b[1;32m    497\u001b[0m   \u001b[38;5;28;01mfor\u001b[39;00m i, shard_arg_result \u001b[38;5;129;01min\u001b[39;00m \u001b[38;5;28mzip\u001b[39m(shard_arg_indices, shard_arg_results):\n\u001b[1;32m    498\u001b[0m     \u001b[38;5;28;01massert\u001b[39;00m \u001b[38;5;28misinstance\u001b[39m(ys[i], _DeferredShardArg)\n",
      "File \u001b[0;32m~/miniconda3/envs/ml/lib/python3.9/site-packages/jax/_src/profiler.py:335\u001b[0m, in \u001b[0;36mannotate_function.<locals>.wrapper\u001b[0;34m(*args, **kwargs)\u001b[0m\n\u001b[1;32m    332\u001b[0m \u001b[38;5;129m@wraps\u001b[39m(func)\n\u001b[1;32m    333\u001b[0m \u001b[38;5;28;01mdef\u001b[39;00m \u001b[38;5;21mwrapper\u001b[39m(\u001b[38;5;241m*\u001b[39margs, \u001b[38;5;241m*\u001b[39m\u001b[38;5;241m*\u001b[39mkwargs):\n\u001b[1;32m    334\u001b[0m   \u001b[38;5;28;01mwith\u001b[39;00m TraceAnnotation(name, \u001b[38;5;241m*\u001b[39m\u001b[38;5;241m*\u001b[39mdecorator_kwargs):\n\u001b[0;32m--> 335\u001b[0m     \u001b[38;5;28;01mreturn\u001b[39;00m \u001b[43mfunc\u001b[49m\u001b[43m(\u001b[49m\u001b[38;5;241;43m*\u001b[39;49m\u001b[43margs\u001b[49m\u001b[43m,\u001b[49m\u001b[43m \u001b[49m\u001b[38;5;241;43m*\u001b[39;49m\u001b[38;5;241;43m*\u001b[39;49m\u001b[43mkwargs\u001b[49m\u001b[43m)\u001b[49m\n\u001b[1;32m    336\u001b[0m   \u001b[38;5;28;01mreturn\u001b[39;00m wrapper\n",
      "File \u001b[0;32m~/miniconda3/envs/ml/lib/python3.9/site-packages/jax/_src/interpreters/pxla.py:119\u001b[0m, in \u001b[0;36mshard_args\u001b[0;34m(shardings, args, canonicalize)\u001b[0m\n\u001b[1;32m    117\u001b[0m   \u001b[38;5;28;01mif\u001b[39;00m canonicalize:\n\u001b[1;32m    118\u001b[0m     arg \u001b[38;5;241m=\u001b[39m xla\u001b[38;5;241m.\u001b[39mcanonicalize_dtype(arg)\n\u001b[0;32m--> 119\u001b[0m   \u001b[38;5;28;01mreturn\u001b[39;00m \u001b[43mshard_arg_handlers\u001b[49m\u001b[43m[\u001b[49m\u001b[38;5;28;43mtype\u001b[39;49m\u001b[43m(\u001b[49m\u001b[43marg\u001b[49m\u001b[43m)\u001b[49m\u001b[43m]\u001b[49m\u001b[43m(\u001b[49m\u001b[43m[\u001b[49m\u001b[43marg\u001b[49m\u001b[43m]\u001b[49m\u001b[43m,\u001b[49m\u001b[43m \u001b[49m\u001b[43mshardings\u001b[49m\u001b[43m)\u001b[49m\n\u001b[1;32m    121\u001b[0m \u001b[38;5;66;03m# type(arg) -> (indices, args, shardings)\u001b[39;00m\n\u001b[1;32m    122\u001b[0m batches \u001b[38;5;241m=\u001b[39m collections\u001b[38;5;241m.\u001b[39mdefaultdict(\u001b[38;5;28;01mlambda\u001b[39;00m: ([], [], []))  \u001b[38;5;66;03m# type: ignore\u001b[39;00m\n",
      "File \u001b[0;32m~/miniconda3/envs/ml/lib/python3.9/site-packages/jax/_src/interpreters/pxla.py:170\u001b[0m, in \u001b[0;36m_shard_array\u001b[0;34m(xs, shardings)\u001b[0m\n\u001b[1;32m    168\u001b[0m     indices \u001b[38;5;241m=\u001b[39m \u001b[38;5;28mtuple\u001b[39m(sharding\u001b[38;5;241m.\u001b[39maddressable_devices_indices_map(x\u001b[38;5;241m.\u001b[39mshape)\u001b[38;5;241m.\u001b[39mvalues())\n\u001b[1;32m    169\u001b[0m     shards \u001b[38;5;241m=\u001b[39m [x[i] \u001b[38;5;28;01mfor\u001b[39;00m i \u001b[38;5;129;01min\u001b[39;00m indices]\n\u001b[0;32m--> 170\u001b[0m   results\u001b[38;5;241m.\u001b[39mappend(\u001b[43mbatched_device_put\u001b[49m\u001b[43m(\u001b[49m\u001b[43maval\u001b[49m\u001b[43m,\u001b[49m\u001b[43m \u001b[49m\u001b[43msharding\u001b[49m\u001b[43m,\u001b[49m\u001b[43m \u001b[49m\u001b[43mshards\u001b[49m\u001b[43m,\u001b[49m\u001b[43m \u001b[49m\u001b[43mdevices\u001b[49m\u001b[43m)\u001b[49m)\n\u001b[1;32m    171\u001b[0m \u001b[38;5;28;01mreturn\u001b[39;00m results\n",
      "File \u001b[0;32m~/miniconda3/envs/ml/lib/python3.9/site-packages/jax/_src/interpreters/pxla.py:195\u001b[0m, in \u001b[0;36mbatched_device_put\u001b[0;34m(aval, sharding, xs, devices, committed)\u001b[0m\n\u001b[1;32m    192\u001b[0m \u001b[38;5;28;01mif\u001b[39;00m \u001b[38;5;28mlen\u001b[39m(bufs) \u001b[38;5;241m==\u001b[39m \u001b[38;5;28mlen\u001b[39m(xs):\n\u001b[1;32m    193\u001b[0m   \u001b[38;5;28;01mreturn\u001b[39;00m array\u001b[38;5;241m.\u001b[39mArrayImpl(\n\u001b[1;32m    194\u001b[0m       aval, sharding, bufs, committed\u001b[38;5;241m=\u001b[39mcommitted, _skip_checks\u001b[38;5;241m=\u001b[39m\u001b[38;5;28;01mTrue\u001b[39;00m)\n\u001b[0;32m--> 195\u001b[0m \u001b[38;5;28;01mreturn\u001b[39;00m \u001b[43mxc\u001b[49m\u001b[38;5;241;43m.\u001b[39;49m\u001b[43mbatched_device_put\u001b[49m\u001b[43m(\u001b[49m\u001b[43maval\u001b[49m\u001b[43m,\u001b[49m\u001b[43m \u001b[49m\u001b[43msharding\u001b[49m\u001b[43m,\u001b[49m\u001b[43m \u001b[49m\u001b[43mxs\u001b[49m\u001b[43m,\u001b[49m\u001b[43m \u001b[49m\u001b[38;5;28;43mlist\u001b[39;49m\u001b[43m(\u001b[49m\u001b[43mdevices\u001b[49m\u001b[43m)\u001b[49m\u001b[43m,\u001b[49m\u001b[43m \u001b[49m\u001b[43mcommitted\u001b[49m\u001b[43m)\u001b[49m\n",
      "\u001b[0;31mRuntimeError\u001b[0m: std::bad_cast"
     ]
    }
   ],
   "source": [
    "# n_train = len(xtrain_s)\n",
    "# n_test = len(xtest_s)\n",
    "# bs = 40\n",
    "dist_true_train = pickle.load(open(data_dir + \"LB_GW_train.pkl\", \"rb\"))\n",
    "dist_true_train = torch.from_numpy(np.array(dist_true_train)).unsqueeze(1)\n",
    "# dist_true_test = pickle.load(open(data_dir + \"LB_GW_test.pkl\", \"rb\"))\n",
    "# dist_true_test = torch.from_numpy(np.array(dist_true_test)).unsqueeze(1)"
   ]
  },
  {
   "cell_type": "code",
   "execution_count": null,
   "metadata": {},
   "outputs": [],
   "source": []
  },
  {
   "cell_type": "code",
   "execution_count": 37,
   "metadata": {},
   "outputs": [],
   "source": [
    "def get_fs(X):\n",
    "    \"\"\"\n",
    "    input: X (n by 3)\n",
    "    output: Data (class) storing fs (n by (n + n(n-1)/2 + 1)) feature matrix\n",
    "     f_d is the set of diagonal edge attributes,\n",
    "     f_o is the set of off-diagonal (upper) edge attributes,\n",
    "     f_star is \\sum_{i \\neq j} X_ii X_ij where X is the n by n edge attribute graph\n",
    "    \"\"\"\n",
    "    n = X.shape[0]\n",
    "    data = Data()\n",
    "    Gram = torch.FloatTensor(X @ X.T)\n",
    "    off_mask = torch.triu(torch.ones(n, n)) == 1\n",
    "\n",
    "    data.f_d = torch.diagonal(Gram, 0).unsqueeze(1)\n",
    "    data.f_o = Gram[off_mask].unsqueeze(1)\n",
    "    data.f_star = (\n",
    "        (data.f_d * (torch.sum(Gram, dim=1, keepdim=True) - data.f_d)).sum().reshape((1, 1))\n",
    "    )\n",
    "\n",
    "    return data\n",
    "\n",
    "\n",
    "def get_Kmeans(X, k=3):\n",
    "    \"\"\"\n",
    "    Implement eqn 6: replace f_d as the self-dots of the K-means dots\n",
    "    input: X (n by 3), k: number of k-means clusters\n",
    "    output: Data (class) storing  feature matrix\n",
    "     f_d is the flattened feature of the gram matrix of K-means centroids\n",
    "     f_o is the set of dot products of each point to the K-means centroids\n",
    "    \"\"\"\n",
    "    n = X.shape[0]\n",
    "    data = Data()\n",
    "\n",
    "    kmeans = KMeans(n_clusters=k, random_state=0, init=\"k-means++\", n_init=1).fit(X)\n",
    "    K = kmeans.cluster_centers_  # (num_centroids, 3)\n",
    "    # sort Kmeans centroid by norm\n",
    "    indexlist = np.argsort(np.linalg.norm(K, axis=1))\n",
    "    K = K[indexlist, :]\n",
    "    data.f_o = torch.FloatTensor(X @ K.T)  # shape(n, d)\n",
    "    Gram_k = torch.FloatTensor(K @ K.T)  # shape (d, d)\n",
    "    data.f_d = Gram_k.reshape(1, k * k)  # shape (d^2,)\n",
    "    return data"
   ]
  },
  {
   "cell_type": "code",
   "execution_count": null,
   "metadata": {},
   "outputs": [],
   "source": [
    "def build_dataset(xtrain_s, xtest_s, ids, Kmeans=False, k=3):\n",
    "    X_train = []\n",
    "    X_test = []\n",
    "    for i in ids:\n",
    "        if Kmeans:\n",
    "            X_train.append(get_Kmeans(xtrain_s[i], k=k))\n",
    "            X_test.append(get_Kmeans(xtest_s[i], k=k))\n",
    "        else:\n",
    "            X_train.append(get_fs(xtrain_s[i]))\n",
    "            X_test.append(get_fs(xtest_s[i]))\n",
    "\n",
    "    return X_train, X_test\n",
    "\n",
    "\n",
    "def get_loaders(train_data1, test_data1, train_data2, test_data2, batch_size, follow_batch=None):\n",
    "    \"\"\"\n",
    "    data1, data2 refers to subsets in ModelNet10 belonging to two different classes\n",
    "    \"\"\"\n",
    "\n",
    "    train_loader1 = DataLoader(\n",
    "        train_data1, batch_size=batch_size, shuffle=False, follow_batch=follow_batch\n",
    "    )\n",
    "    train_loader2 = DataLoader(\n",
    "        train_data2, batch_size=batch_size, shuffle=False, follow_batch=follow_batch\n",
    "    )\n",
    "\n",
    "    test_loader1 = DataLoader(\n",
    "        test_data1, batch_size=batch_size, shuffle=False, follow_batch=follow_batch\n",
    "    )\n",
    "\n",
    "    test_loader2 = DataLoader(\n",
    "        test_data2, batch_size=batch_size, shuffle=False, follow_batch=follow_batch\n",
    "    )\n",
    "\n",
    "    return train_loader1, train_loader2, test_loader1, test_loader2"
   ]
  }
 ],
 "metadata": {
  "kernelspec": {
   "display_name": "ml",
   "language": "python",
   "name": "python3"
  },
  "language_info": {
   "codemirror_mode": {
    "name": "ipython",
    "version": 3
   },
   "file_extension": ".py",
   "mimetype": "text/x-python",
   "name": "python",
   "nbconvert_exporter": "python",
   "pygments_lexer": "ipython3",
   "version": "3.9.18"
  }
 },
 "nbformat": 4,
 "nbformat_minor": 2
}
