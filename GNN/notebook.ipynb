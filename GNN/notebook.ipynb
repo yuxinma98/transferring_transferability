{
 "cells": [
  {
   "cell_type": "code",
   "execution_count": 3,
   "metadata": {},
   "outputs": [],
   "source": [
    "from data import HomDensityDataset\n",
    "import matplotlib.pyplot as plt\n",
    "\n",
    "data = HomDensityDataset(\n",
    "    root=\"/export/canton/data/yma93/anydim_transferability/GNN_size_generalizability\",\n",
    "    N=500,\n",
    "    n=50,\n",
    "    graph_model=\"full_SBM_Gaussian\",\n",
    "    task=\"triangle\",\n",
    ")"
   ]
  },
  {
   "cell_type": "code",
   "execution_count": 4,
   "metadata": {},
   "outputs": [
    {
     "data": {
      "image/png": "[encoded data removed]",
      "text/plain": [
       "<Figure size 640x480 with 1 Axes>"
      ]
     },
     "metadata": {},
     "output_type": "display_data"
    }
   ],
   "source": [
    "plt.hist(data.y, bins=50)\n",
    "plt.show()"
   ]
  },
  {
   "cell_type": "code",
   "execution_count": null,
   "metadata": {},
   "outputs": [],
   "source": [
    "from torch_geometric.utils import to_dense_adj\n",
    "A=to_dense_adj(data[0].edge_index).squeeze()\n",
    "A.sum(dim=0)"
   ]
  },
  {
   "cell_type": "code",
   "execution_count": null,
   "metadata": {},
   "outputs": [],
   "source": [
    "from ign_layers import layer_2_to_2_anydim, layer_2_to_1_anydim\n",
    "import torch\n",
    "gnn = layer_2_to_2_anydim(input_depth=1, output_depth=3)\n",
    "gnn.all_bias = torch.nn.Parameter(torch.ones(1,3,1,1))\n",
    "A = torch.randn(5, 3, 30, 30) * 50\n",
    "A2 = torch.kron(A, torch.ones(1,1,5,5))\n",
    "A = gnn(gnn(A))\n",
    "A2 = gnn(gnn(A2))\n",
    "print(\n",
    "    torch.max(\n",
    "        torch.abs(\n",
    "            torch.kron(A, torch.ones(1, 1, 5, 5)) - A2,\n",
    "        )\n",
    "    )\n",
    ")"
   ]
  },
  {
   "cell_type": "code",
   "execution_count": null,
   "metadata": {},
   "outputs": [],
   "source": [
    "A = torch.randn(5, 3, 30, 30) * 50\n",
    "A2 = torch.kron(A, torch.ones(1,1,5,5))\n",
    "gnn = layer_2_to_1_anydim(input_depth=3, output_depth=3)\n",
    "X = gnn(A)\n",
    "X2 = gnn(A2)\n",
    "print(\n",
    "    torch.max(\n",
    "        torch.abs(\n",
    "            torch.kron(X, torch.ones(1, 1, 5)) - X2,\n",
    "        )\n",
    "    )\n",
    ")   "
   ]
  },
  {
   "cell_type": "code",
   "execution_count": null,
   "metadata": {},
   "outputs": [],
   "source": [
    "# check whether model is compatible\n",
    "from model import GNN_layer\n",
    "import torch\n",
    "\n",
    "reduced = True\n",
    "gnn1 = GNN_layer(A_in_channels=1, A_out_channels=3, x_in_channels=3, x_out_channels=3, reduced=reduced)\n",
    "# gnn1.A_bias = torch.nn.Parameter(torch.ones(1,1,1,3))\n",
    "# gnn1.X1_bias = torch.nn.Parameter(torch.ones(1, 1, 3))\n",
    "# gnn1.X1_bias = torch.nn.Parameter(torch.ones(1, 1, 3))\n",
    "gnn2 = GNN_layer(A_in_channels=3, A_out_channels=3, x_in_channels=3, x_out_channels=3, reduced=reduced)\n",
    "# gnn2.A_bias = torch.nn.Parameter(torch.ones(1, 1, 1, 3))\n",
    "# gnn2.X1_bias = torch.nn.Parameter(torch.ones(1, 1, 3))\n",
    "# gnn2.X1_bias = torch.nn.Parameter(torch.ones(1, 1, 3))\n",
    "\n",
    "A = torch.randn(5, 1, 30, 30) * 5\n",
    "X = torch.randn(5, 30, 3) * 50\n",
    "A2 = torch.kron(A, torch.ones(1, 1, 10, 10))\n",
    "X2 = torch.kron(X, torch.ones(1, 10, 1))\n",
    "\n",
    "A, X = gnn1(A, X)\n",
    "A, X = gnn2(A, X)\n",
    "A = A.contiguous()\n",
    "X = X.contiguous()\n",
    "\n",
    "A2, X2 = gnn1(A2, X2)\n",
    "A2, X2 = gnn2(A2, X2)\n",
    "A2 = A2.contiguous()\n",
    "X2 = X2.contiguous()"
   ]
  },
  {
   "cell_type": "code",
   "execution_count": null,
   "metadata": {},
   "outputs": [],
   "source": [
    "print(torch.max(torch.abs(torch.kron(A, torch.ones(1, 1, 10, 10))- A2,)))"
   ]
  },
  {
   "cell_type": "code",
   "execution_count": null,
   "metadata": {},
   "outputs": [],
   "source": [
    "print(torch.max(torch.abs((torch.kron(X, torch.ones(1, 10, 1)) - X2)/X2)))"
   ]
  },
  {
   "cell_type": "code",
   "execution_count": null,
   "metadata": {},
   "outputs": [],
   "source": [
    "torch.allclose(torch.kron(A, torch.ones(1, 1, 10, 10)), A2, atol=1e-2)"
   ]
  },
  {
   "cell_type": "code",
   "execution_count": null,
   "metadata": {},
   "outputs": [],
   "source": [
    "torch.allclose(torch.kron(X, torch.ones(1, 10, 1)), X2, rtol=1e-2)"
   ]
  },
  {
   "cell_type": "code",
   "execution_count": null,
   "metadata": {},
   "outputs": [],
   "source": [
    "X[0, :, 0]"
   ]
  },
  {
   "cell_type": "code",
   "execution_count": null,
   "metadata": {},
   "outputs": [],
   "source": [
    "X2[0,:,0]"
   ]
  },
  {
   "cell_type": "code",
   "execution_count": null,
   "metadata": {},
   "outputs": [],
   "source": [
    "import os,json\n",
    "import numpy as np\n",
    "import matplotlib.pyplot as plt\n",
    "num_trials = 10\n",
    "log_test_n_range = np.arange(1.7, 3.4, 0.4)\n",
    "test_n_range = np.array([int(10**i) for i in log_test_n_range])\n",
    "for model in [\"simple\",\"ign_anydim\", \"reduced\", \"unreduced\"]:\n",
    "    fname = f\"results_Sociality_conditional_triangle_{model}.json\"\n",
    "    current_directory = os.getcwd()\n",
    "    with open(os.path.join(\"log/size_generalizability\", fname), \"r\") as f:\n",
    "        results = json.load(f)\n",
    "    mse_list = [results[model][str(seed)] for seed in range(num_trials)]\n",
    "    mean_mse = np.median(mse_list, axis=0)\n",
    "    std_mse = np.std(mse_list, axis=0)\n",
    "\n",
    "    x = np.array(test_n_range)\n",
    "    plt.plot(x, mean_mse, label = model)\n",
    "    # plt.fill_between(\n",
    "    #     x,\n",
    "    #     mean_mse - std_mse,\n",
    "    #     mean_mse + std_mse,\n",
    "    #     alpha=0.3,\n",
    "    # )\n",
    "plt.xscale(\"log\")\n",
    "plt.xlabel(\"Test set size (N)\")\n",
    "plt.ylabel(\"Mean relative error\")\n",
    "plt.legend()"
   ]
  },
  {
   "cell_type": "code",
   "execution_count": 3,
   "metadata": {},
   "outputs": [
    {
     "ename": "FileNotFoundError",
     "evalue": "[Errno 2] No such file or directory: 'log/size_generalizability/17-largeclass/results_SBM_Gaussian_triangle_unreduced.json'",
     "output_type": "error",
     "traceback": [
      "\u001b[0;31m---------------------------------------------------------------------------\u001b[0m",
      "\u001b[0;31mFileNotFoundError\u001b[0m                         Traceback (most recent call last)",
      "Cell \u001b[0;32mIn[3], line 11\u001b[0m\n\u001b[1;32m      9\u001b[0m fname \u001b[38;5;241m=\u001b[39m \u001b[38;5;124mf\u001b[39m\u001b[38;5;124m\"\u001b[39m\u001b[38;5;124mresults_SBM_Gaussian_triangle_\u001b[39m\u001b[38;5;132;01m{\u001b[39;00mmodel\u001b[38;5;132;01m}\u001b[39;00m\u001b[38;5;124m.json\u001b[39m\u001b[38;5;124m\"\u001b[39m\n\u001b[1;32m     10\u001b[0m current_directory \u001b[38;5;241m=\u001b[39m os\u001b[38;5;241m.\u001b[39mgetcwd()\n\u001b[0;32m---> 11\u001b[0m \u001b[38;5;28;01mwith\u001b[39;00m \u001b[38;5;28;43mopen\u001b[39;49m\u001b[43m(\u001b[49m\u001b[43mos\u001b[49m\u001b[38;5;241;43m.\u001b[39;49m\u001b[43mpath\u001b[49m\u001b[38;5;241;43m.\u001b[39;49m\u001b[43mjoin\u001b[49m\u001b[43m(\u001b[49m\u001b[38;5;124;43m\"\u001b[39;49m\u001b[38;5;124;43mlog/size_generalizability/17-largeclass/\u001b[39;49m\u001b[38;5;124;43m\"\u001b[39;49m\u001b[43m,\u001b[49m\u001b[43m \u001b[49m\u001b[43mfname\u001b[49m\u001b[43m)\u001b[49m\u001b[43m,\u001b[49m\u001b[43m \u001b[49m\u001b[38;5;124;43m\"\u001b[39;49m\u001b[38;5;124;43mr\u001b[39;49m\u001b[38;5;124;43m\"\u001b[39;49m\u001b[43m)\u001b[49m \u001b[38;5;28;01mas\u001b[39;00m f:\n\u001b[1;32m     12\u001b[0m     results \u001b[38;5;241m=\u001b[39m json\u001b[38;5;241m.\u001b[39mload(f)\n\u001b[1;32m     13\u001b[0m mse_list \u001b[38;5;241m=\u001b[39m [results[model][\u001b[38;5;28mstr\u001b[39m(seed)] \u001b[38;5;28;01mfor\u001b[39;00m seed \u001b[38;5;129;01min\u001b[39;00m \u001b[38;5;28mrange\u001b[39m(num_trials)]\n",
      "File \u001b[0;32m~/miniconda3/envs/ml/lib/python3.9/site-packages/IPython/core/interactiveshell.py:286\u001b[0m, in \u001b[0;36m_modified_open\u001b[0;34m(file, *args, **kwargs)\u001b[0m\n\u001b[1;32m    279\u001b[0m \u001b[38;5;28;01mif\u001b[39;00m file \u001b[38;5;129;01min\u001b[39;00m {\u001b[38;5;241m0\u001b[39m, \u001b[38;5;241m1\u001b[39m, \u001b[38;5;241m2\u001b[39m}:\n\u001b[1;32m    280\u001b[0m     \u001b[38;5;28;01mraise\u001b[39;00m \u001b[38;5;167;01mValueError\u001b[39;00m(\n\u001b[1;32m    281\u001b[0m         \u001b[38;5;124mf\u001b[39m\u001b[38;5;124m\"\u001b[39m\u001b[38;5;124mIPython won\u001b[39m\u001b[38;5;124m'\u001b[39m\u001b[38;5;124mt let you open fd=\u001b[39m\u001b[38;5;132;01m{\u001b[39;00mfile\u001b[38;5;132;01m}\u001b[39;00m\u001b[38;5;124m by default \u001b[39m\u001b[38;5;124m\"\u001b[39m\n\u001b[1;32m    282\u001b[0m         \u001b[38;5;124m\"\u001b[39m\u001b[38;5;124mas it is likely to crash IPython. If you know what you are doing, \u001b[39m\u001b[38;5;124m\"\u001b[39m\n\u001b[1;32m    283\u001b[0m         \u001b[38;5;124m\"\u001b[39m\u001b[38;5;124myou can use builtins\u001b[39m\u001b[38;5;124m'\u001b[39m\u001b[38;5;124m open.\u001b[39m\u001b[38;5;124m\"\u001b[39m\n\u001b[1;32m    284\u001b[0m     )\n\u001b[0;32m--> 286\u001b[0m \u001b[38;5;28;01mreturn\u001b[39;00m \u001b[43mio_open\u001b[49m\u001b[43m(\u001b[49m\u001b[43mfile\u001b[49m\u001b[43m,\u001b[49m\u001b[43m \u001b[49m\u001b[38;5;241;43m*\u001b[39;49m\u001b[43margs\u001b[49m\u001b[43m,\u001b[49m\u001b[43m \u001b[49m\u001b[38;5;241;43m*\u001b[39;49m\u001b[38;5;241;43m*\u001b[39;49m\u001b[43mkwargs\u001b[49m\u001b[43m)\u001b[49m\n",
      "\u001b[0;31mFileNotFoundError\u001b[0m: [Errno 2] No such file or directory: 'log/size_generalizability/17-largeclass/results_SBM_Gaussian_triangle_unreduced.json'"
     ]
    },
    {
     "data": {
      "image/png": "[encoded data removed]",
      "text/plain": [
       "<Figure size 640x480 with 1 Axes>"
      ]
     },
     "metadata": {},
     "output_type": "display_data"
    }
   ],
   "source": [
    "import os, json\n",
    "import numpy as np\n",
    "import matplotlib.pyplot as plt\n",
    "\n",
    "num_trials = 10\n",
    "log_test_n_range = np.arange(1.7, 3.4, 0.4)\n",
    "test_n_range = np.array([int(10**i) for i in log_test_n_range])\n",
    "for model in [\"reduced\", \"unreduced\", \"ign_anydim\", \"ign\", \"simple\"]:\n",
    "    fname = f\"results_SBM_Gaussian_triangle_{model}.json\"\n",
    "    current_directory = os.getcwd()\n",
    "    with open(os.path.join(\"log/size_generalizability/17-largeclass/\", fname), \"r\") as f:\n",
    "        results = json.load(f)\n",
    "    mse_list = [results[model][str(seed)] for seed in range(num_trials)]\n",
    "    mean_mse = np.mean(np.log(mse_list), axis=0)\n",
    "    std_mse = np.std(np.log(mse_list), axis=0)\n",
    "    x = np.array(test_n_range)\n",
    "    plt.plot(x, mean_mse, label=model)\n",
    "    plt.fill_between(\n",
    "        x,\n",
    "        mean_mse - std_mse,\n",
    "        mean_mse + std_mse,\n",
    "        alpha=0.3,\n",
    "    )\n",
    "plt.xscale(\"log\")\n",
    "# plt.yscale(\"log\")\n",
    "plt.xlabel(\"Test set size (N)\")\n",
    "plt.ylabel(\"log(MSE)\")\n",
    "plt.legend()"
   ]
  },
  {
   "cell_type": "code",
   "execution_count": 4,
   "metadata": {},
   "outputs": [
    {
     "data": {
      "text/plain": [
       "<matplotlib.legend.Legend at 0x7f667c49dc10>"
      ]
     },
     "execution_count": 4,
     "metadata": {},
     "output_type": "execute_result"
    },
    {
     "data": {
      "image/png": "[encoded data removed]",
      "text/plain": [
       "<Figure size 640x480 with 1 Axes>"
      ]
     },
     "metadata": {},
     "output_type": "display_data"
    }
   ],
   "source": [
    "import os, json\n",
    "import numpy as np\n",
    "import matplotlib.pyplot as plt\n",
    "\n",
    "num_trials = 10\n",
    "log_test_n_range = np.arange(1.7, 3.4, 0.4)\n",
    "test_n_range = np.array([int(10**i) for i in log_test_n_range])\n",
    "for model in [\"reduced\", \"unreduced\", \"ign_anydim\", \"ign\", \"simple\"]:\n",
    "    fname = f\"results_full_SBM_Gaussian_triangle_{model}.json\"\n",
    "    current_directory = os.getcwd()\n",
    "    with open(os.path.join(\"log/size_generalizability\", fname), \"r\") as f:\n",
    "        results = json.load(f)\n",
    "    mse_list = [results[model][str(seed)] for seed in range(num_trials)]\n",
    "    mean_mse = np.mean(np.log(mse_list), axis=0)\n",
    "    std_mse = np.std(np.log(mse_list), axis=0)\n",
    "    x = np.array(test_n_range)\n",
    "    plt.plot(x, mean_mse, label=model)\n",
    "    plt.fill_between(\n",
    "        x,\n",
    "        mean_mse - std_mse,\n",
    "        mean_mse + std_mse,\n",
    "        alpha=0.3,\n",
    "    )\n",
    "plt.xscale(\"log\")\n",
    "# plt.yscale(\"log\")\n",
    "plt.xlabel(\"Test set size (N)\")\n",
    "plt.ylabel(\"log(MSE)\")\n",
    "plt.legend()"
   ]
  },
  {
   "cell_type": "markdown",
   "metadata": {},
   "source": [
    "# study trained unreduced model"
   ]
  },
  {
   "cell_type": "code",
   "execution_count": null,
   "metadata": {},
   "outputs": [],
   "source": [
    "import torch\n",
    "state_dict = torch.load(\"log/transferability/anydim_transferability/el33aj98/checkpoints/epoch=494-step=11385-val_loss=0.00.ckpt\")[\"state_dict\"]"
   ]
  },
  {
   "cell_type": "code",
   "execution_count": null,
   "metadata": {},
   "outputs": [],
   "source": [
    "state_dict.keys()"
   ]
  },
  {
   "cell_type": "code",
   "execution_count": null,
   "metadata": {},
   "outputs": [],
   "source": [
    "state_dict[\"model.layers.0.A_l5.weight\"]"
   ]
  },
  {
   "cell_type": "code",
   "execution_count": null,
   "metadata": {},
   "outputs": [],
   "source": [
    "for key in state_dict.keys():\n",
    "    if 'A_l3' in key or 'A_l5' in key:\n",
    "        print(key)\n",
    "        print(state_dict[key])"
   ]
  },
  {
   "cell_type": "code",
   "execution_count": null,
   "metadata": {},
   "outputs": [],
   "source": [
    "for key in state_dict.keys():\n",
    "    if \"X1_l4\" in key or \"X1_l5\" in key:\n",
    "        print(key)\n",
    "        print(state_dict[key])"
   ]
  },
  {
   "cell_type": "code",
   "execution_count": null,
   "metadata": {},
   "outputs": [],
   "source": [
    "import numpy as np\n",
    "import matplotlib.pyplot as plt\n",
    "def W(x, y):\n",
    "    return 1-np.exp(-2 * x * y)\n",
    "    # return np.exp(-((x - y) ** 2)/0.1)\n",
    "\n",
    "\n",
    "# Create a grid of x and y values\n",
    "x = np.linspace(0, 1, 100)\n",
    "y = np.linspace(0, 1, 100)\n",
    "X, Y = np.meshgrid(x, y)\n",
    "\n",
    "# Compute W(x, y) for each pair of x and y values\n",
    "Z = W(X, Y)\n",
    "print(Z.max(), Z.min())\n",
    "# Plot the resulting matrix\n",
    "plt.figure(figsize=(8, 6))\n",
    "plt.contourf(X, Y, Z, levels=50, cmap=\"viridis\")\n",
    "plt.colorbar(label=\"W(x, y)\")\n",
    "plt.xlabel(\"x\")\n",
    "plt.ylabel(\"y\")\n",
    "plt.title(\"Graph of W(x, y) = exp(-(x-y)^2)\")\n",
    "plt.show()"
   ]
  },
  {
   "cell_type": "code",
   "execution_count": null,
   "metadata": {},
   "outputs": [],
   "source": [
    "import torch\n",
    "\n",
    "# Create a random tensor\n",
    "tensor = torch.tensor([[3, 1, 4], \n",
    "                       [1, 5, 9], \n",
    "                       [2, 6, 5]])\n",
    "\n",
    "# Sort the tensor along dimension 0 (rows)\n",
    "sorted_tensor_dim0, indices_dim0 = torch.sort(tensor, dim=0)\n",
    "\n",
    "# Sort the tensor along dimension 1 (columns)\n",
    "sorted_tensor_dim1, indices_dim1 = torch.sort(tensor, dim=1)"
   ]
  },
  {
   "cell_type": "code",
   "execution_count": null,
   "metadata": {},
   "outputs": [],
   "source": [
    "sorted_tensor_dim0"
   ]
  },
  {
   "cell_type": "code",
   "execution_count": null,
   "metadata": {},
   "outputs": [],
   "source": []
  }
 ],
 "metadata": {
  "kernelspec": {
   "display_name": "ml",
   "language": "python",
   "name": "python3"
  },
  "language_info": {
   "codemirror_mode": {
    "name": "ipython",
    "version": 3
   },
   "file_extension": ".py",
   "mimetype": "text/x-python",
   "name": "python",
   "nbconvert_exporter": "python",
   "pygments_lexer": "ipython3",
   "version": "3.9.18"
  }
 },
 "nbformat": 4,
 "nbformat_minor": 2
}
