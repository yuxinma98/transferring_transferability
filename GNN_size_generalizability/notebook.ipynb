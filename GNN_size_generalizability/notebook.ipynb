{
 "cells": [
  {
   "cell_type": "code",
   "execution_count": 2,
   "metadata": {},
   "outputs": [
    {
     "name": "stderr",
     "output_type": "stream",
     "text": [
      "/cis/home/yma93/miniconda3/envs/ml/lib/python3.9/site-packages/tqdm/auto.py:21: TqdmWarning: IProgress not found. Please update jupyter and ipywidgets. See https://ipywidgets.readthedocs.io/en/stable/user_install.html\n",
      "  from .autonotebook import tqdm as notebook_tqdm\n"
     ]
    }
   ],
   "source": [
    "from data import HomDensityDataset"
   ]
  },
  {
   "cell_type": "code",
   "execution_count": 6,
   "metadata": {},
   "outputs": [
    {
     "name": "stderr",
     "output_type": "stream",
     "text": [
      "Processing...\n",
      "Done!\n"
     ]
    },
    {
     "data": {
      "text/plain": [
       "tensor([[[ 0.3569],\n",
       "         [-0.4193],\n",
       "         [-0.7296],\n",
       "         [-0.4778],\n",
       "         [-0.9291],\n",
       "         [ 1.4990],\n",
       "         [ 1.1816],\n",
       "         [-0.8419],\n",
       "         [ 1.6745],\n",
       "         [ 1.2441],\n",
       "         [ 0.4521],\n",
       "         [ 1.3654],\n",
       "         [-0.8265],\n",
       "         [-1.2282],\n",
       "         [ 0.5207],\n",
       "         [-1.5179],\n",
       "         [ 1.2648],\n",
       "         [ 1.5140],\n",
       "         [ 0.5479],\n",
       "         [-0.5378],\n",
       "         [-1.0946],\n",
       "         [-1.0520],\n",
       "         [-0.5495],\n",
       "         [-1.1606],\n",
       "         [ 0.9384],\n",
       "         [-0.6212],\n",
       "         [ 0.3688],\n",
       "         [ 1.3401],\n",
       "         [-2.0136],\n",
       "         [-2.0552],\n",
       "         [ 0.8003],\n",
       "         [-0.4805],\n",
       "         [ 0.5222],\n",
       "         [ 0.5198],\n",
       "         [-1.6651],\n",
       "         [ 1.0681],\n",
       "         [-1.2428],\n",
       "         [ 0.5405],\n",
       "         [ 0.4542],\n",
       "         [ 0.1899],\n",
       "         [-1.6580],\n",
       "         [-0.2362],\n",
       "         [-0.7400],\n",
       "         [ 2.3431],\n",
       "         [-0.0880],\n",
       "         [-0.1582],\n",
       "         [ 1.4055],\n",
       "         [-0.6246],\n",
       "         [ 1.1098],\n",
       "         [-0.0812],\n",
       "         [-0.4516],\n",
       "         [ 1.4734],\n",
       "         [ 0.5377],\n",
       "         [ 0.0570],\n",
       "         [-0.2639],\n",
       "         [ 1.3552],\n",
       "         [ 1.5844],\n",
       "         [ 2.6641],\n",
       "         [ 0.6609],\n",
       "         [-0.5340],\n",
       "         [ 0.4549],\n",
       "         [-0.3613],\n",
       "         [-0.1710],\n",
       "         [ 1.0166],\n",
       "         [ 1.2937],\n",
       "         [ 0.7836],\n",
       "         [-0.3599],\n",
       "         [ 0.6660],\n",
       "         [-0.9455],\n",
       "         [ 0.3968],\n",
       "         [ 0.3380],\n",
       "         [-2.0141],\n",
       "         [ 0.6177],\n",
       "         [-0.8694],\n",
       "         [ 0.2464],\n",
       "         [ 0.4083],\n",
       "         [ 0.1136],\n",
       "         [ 0.3473],\n",
       "         [ 1.7363],\n",
       "         [-0.4352]]])"
      ]
     },
     "execution_count": 6,
     "metadata": {},
     "output_type": "execute_result"
    }
   ],
   "source": [
    "data = HomDensityDataset(\"data/\", N=1000, n=80, d=1, graph_model=\"Sociality\", task = \"4-cycle\")\n",
    "data[0].x"
   ]
  },
  {
   "cell_type": "code",
   "execution_count": 1,
   "metadata": {},
   "outputs": [
    {
     "name": "stderr",
     "output_type": "stream",
     "text": [
      "/cis/home/yma93/miniconda3/envs/ml/lib/python3.9/site-packages/tqdm/auto.py:21: TqdmWarning: IProgress not found. Please update jupyter and ipywidgets. See https://ipywidgets.readthedocs.io/en/stable/user_install.html\n",
      "  from .autonotebook import tqdm as notebook_tqdm\n"
     ]
    }
   ],
   "source": [
    "import torch\n",
    "from torch_geometric.datasets import Amazon, SNAPDataset\n",
    "from sklearn.cluster import spectral_clustering\n",
    "import torch_geometric.utils as pyg_utils\n",
    "import matplotlib.pyplot as plt\n",
    "from torch_geometric.data import NeighborSampler\n",
    "\n",
    "# Load the dataset\n",
    "dataset = SNAPDataset(root=\"data\", name=\"soc-ca-astroph\")"
   ]
  },
  {
   "cell_type": "code",
   "execution_count": 2,
   "metadata": {},
   "outputs": [
    {
     "data": {
      "text/plain": [
       "1"
      ]
     },
     "execution_count": 2,
     "metadata": {},
     "output_type": "execute_result"
    }
   ],
   "source": [
    "len(dataset)"
   ]
  },
  {
   "cell_type": "code",
   "execution_count": 3,
   "metadata": {},
   "outputs": [],
   "source": [
    "data = dataset[0]"
   ]
  },
  {
   "cell_type": "code",
   "execution_count": 4,
   "metadata": {},
   "outputs": [],
   "source": [
    "N = 1000\n",
    "chosen_nodes = torch.arange(N)\n",
    "mask = (data.edge_index[0] < N) | (data.edge_index[1] < N)\n",
    "filtered_edge_index = data.edge_index[:, mask]"
   ]
  },
  {
   "cell_type": "code",
   "execution_count": 5,
   "metadata": {},
   "outputs": [
    {
     "data": {
      "text/plain": [
       "2657"
      ]
     },
     "execution_count": 5,
     "metadata": {},
     "output_type": "execute_result"
    }
   ],
   "source": [
    "len(filtered_edge_index.unique())"
   ]
  },
  {
   "cell_type": "code",
   "execution_count": 7,
   "metadata": {},
   "outputs": [
    {
     "name": "stdout",
     "output_type": "stream",
     "text": [
      "tensor(0.) tensor(137.) tensor(0.0474)\n"
     ]
    }
   ],
   "source": [
    "A = pyg_utils.to_dense_adj(filtered_edge_index)[0]\n",
    "degree = A.sum(dim=0)\n",
    "print(degree.min(), degree.max(), degree.mean())"
   ]
  },
  {
   "cell_type": "code",
   "execution_count": 16,
   "metadata": {},
   "outputs": [
    {
     "ename": "",
     "evalue": "",
     "output_type": "error",
     "traceback": [
      "\u001b[1;31mThe Kernel crashed while executing code in the current cell or a previous cell. \n",
      "\u001b[1;31mPlease review the code in the cell(s) to identify a possible cause of the failure. \n",
      "\u001b[1;31mClick <a href='https://aka.ms/vscodeJupyterKernelCrash'>here</a> for more info. \n",
      "\u001b[1;31mView Jupyter <a href='command:jupyter.viewOutput'>log</a> for further details."
     ]
    }
   ],
   "source": [
    "degree = A.sum(dim=0)\n",
    "sorted_indices = degree.argsort()\n",
    "A_sorted = A[sorted_indices, : ][:, sorted_indices]"
   ]
  },
  {
   "cell_type": "code",
   "execution_count": 9,
   "metadata": {},
   "outputs": [
    {
     "ename": "",
     "evalue": "",
     "output_type": "error",
     "traceback": [
      "\u001b[1;31mThe Kernel crashed while executing code in the current cell or a previous cell. \n",
      "\u001b[1;31mPlease review the code in the cell(s) to identify a possible cause of the failure. \n",
      "\u001b[1;31mClick <a href='https://aka.ms/vscodeJupyterKernelCrash'>here</a> for more info. \n",
      "\u001b[1;31mView Jupyter <a href='command:jupyter.viewOutput'>log</a> for further details."
     ]
    }
   ],
   "source": [
    "plt.imshow(A)"
   ]
  },
  {
   "cell_type": "code",
   "execution_count": null,
   "metadata": {},
   "outputs": [],
   "source": []
  }
 ],
 "metadata": {
  "kernelspec": {
   "display_name": "ml",
   "language": "python",
   "name": "python3"
  },
  "language_info": {
   "codemirror_mode": {
    "name": "ipython",
    "version": 3
   },
   "file_extension": ".py",
   "mimetype": "text/x-python",
   "name": "python",
   "nbconvert_exporter": "python",
   "pygments_lexer": "ipython3",
   "version": "3.9.18"
  }
 },
 "nbformat": 4,
 "nbformat_minor": 2
}
