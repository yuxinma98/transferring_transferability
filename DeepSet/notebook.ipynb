{
 "cells": [
  {
   "cell_type": "code",
   "execution_count": null,
   "metadata": {},
   "outputs": [],
   "source": [
    "from data import PopStatsDataModule\n",
    "import os\n",
    "CURRENT_DIR = os.getcwd()\n",
    "data = PopStatsDataModule(data_dir=os.path.join(CURRENT_DIR, \"generator/data\"),\n",
    "                            task_id = 1,\n",
    "                            exp_id = 14,\n",
    "                            batch_size = 128)\n",
    "data.prepare_data()\n",
    "data.setup()"
   ]
  },
  {
   "cell_type": "code",
   "execution_count": null,
   "metadata": {},
   "outputs": [],
   "source": [
    "data.train_dataloader().dataset[0][0].shape"
   ]
  },
  {
   "cell_type": "code",
   "execution_count": null,
   "metadata": {},
   "outputs": [],
   "source": [
    "data.train_dataloader().dataset[0][1].shape"
   ]
  },
  {
   "cell_type": "code",
   "execution_count": null,
   "metadata": {},
   "outputs": [],
   "source": [
    "data.train_dataloader().dataset[0][0]"
   ]
  },
  {
   "cell_type": "code",
   "execution_count": 72,
   "metadata": {},
   "outputs": [
    {
     "data": {
      "image/png": "[encoded data removed]",
      "text/plain": [
       "<Figure size 640x480 with 1 Axes>"
      ]
     },
     "metadata": {},
     "output_type": "display_data"
    }
   ],
   "source": [
    "import torch\n",
    "import os\n",
    "import numpy as np\n",
    "import matplotlib.pyplot as plt\n",
    "\n",
    "from model import DeepSet\n",
    "\n",
    "d = 1\n",
    "n_samples = 1000\n",
    "M = int(1e8)  # reference set size, set to a large number as estimated cts limit\n",
    "log_n_range = np.arange(1, 4, 0.2)\n",
    "\n",
    "# fix a 2-d gaussian distribution\n",
    "discrete_random_variable = torch.distributions.Categorical(torch.ones(5))\n",
    "bernoulli = torch.distributions.Bernoulli(probs=0.5)\n",
    "\n",
    "# fix a model with random weights\n",
    "model = DeepSet(in_channels=d, output_channels=1, hidden_dim=128, normalized=True)\n",
    "model.eval()\n",
    "\n",
    "# compute estimated limit\n",
    "X = bernoulli.sample((M,)).unsqueeze(0).unsqueeze(-1)\n",
    "with torch.no_grad():\n",
    "    limit = float(model(X).mean(dim=0))\n",
    "\n",
    "# compute errors\n",
    "n_range = np.power(10, log_n_range).astype(int)\n",
    "errors_mean = np.zeros_like(n_range, dtype=float)\n",
    "errors_std = np.zeros_like(n_range, dtype=float)\n",
    "for i, n in enumerate(n_range):\n",
    "    X = bernoulli.sample(\n",
    "        (\n",
    "            n_samples,\n",
    "            n,\n",
    "        )\n",
    "    ).unsqueeze(-1)\n",
    "    with torch.no_grad():\n",
    "        y = model(X)\n",
    "    error = torch.abs(y - limit)\n",
    "    errors_mean[i] = float(error.mean(dim=0).squeeze())\n",
    "    errors_std[i] = float(error.std(dim=0).squeeze())\n",
    "\n",
    "# plot\n",
    "plt.figure()\n",
    "plt.errorbar(n_range, errors_mean, errors_std, fmt=\"o\", capsize=3, markersize=5)\n",
    "reference = n_range ** (-0.5) * n_range[0] ** (0.5) * errors_mean[0]\n",
    "plt.plot(n_range, reference, label=\"$n^{-0.5}$\")\n",
    "plt.xlabel(\"Set size $n$\")\n",
    "plt.ylabel(\"$|f_n(x) - f_m(x)|$\")\n",
    "plt.legend()\n",
    "plt.xscale(\"log\")\n",
    "plt.yscale(\"log\")\n",
    "plt.show()"
   ]
  },
  {
   "cell_type": "code",
   "execution_count": 48,
   "metadata": {},
   "outputs": [
    {
     "data": {
      "text/plain": [
       "array([0.00518459, 0.00036219, 0.00026541, 0.00021726, 0.0001826 ,\n",
       "       0.00016956, 0.00015361, 0.00013533, 0.00012772, 0.00012187])"
      ]
     },
     "execution_count": 48,
     "metadata": {},
     "output_type": "execute_result"
    }
   ],
   "source": [
    "errors_mean"
   ]
  },
  {
   "cell_type": "code",
   "execution_count": 53,
   "metadata": {},
   "outputs": [
    {
     "data": {
      "text/plain": [
       "array([ 0.00518459, -0.03481442, -0.03481516, -0.0348153 , -0.03481535,\n",
       "       -0.03481537, -0.03481538, -0.03481539, -0.03481539, -0.0348154 ])"
      ]
     },
     "execution_count": 53,
     "metadata": {},
     "output_type": "execute_result"
    }
   ],
   "source": [
    "n_range ** (-2.0) - n_range[0] ** (-2.0) + errors_mean[0]"
   ]
  },
  {
   "cell_type": "code",
   "execution_count": 43,
   "metadata": {},
   "outputs": [
    {
     "data": {
      "text/plain": [
       "array([ 0.        , -0.41566958, -0.42488081, -0.42897137, -0.43141208,\n",
       "       -0.43307853, -0.43430903, -0.43526558, -0.43603675, -0.4366756 ])"
      ]
     },
     "execution_count": 43,
     "metadata": {},
     "output_type": "execute_result"
    }
   ],
   "source": [
    "n_range ** (-0.5) - n_range[0] ** (-0.5)"
   ]
  },
  {
   "cell_type": "code",
   "execution_count": 3,
   "metadata": {},
   "outputs": [
    {
     "name": "stdout",
     "output_type": "stream",
     "text": [
      "-0.049350250512361526\n",
      "-0.04934839531779289\n",
      "-0.04935401678085327\n",
      "-0.049351051449775696\n",
      "-0.049339842051267624\n",
      "-0.04935498535633087\n",
      "-0.049348246306180954\n",
      "-0.04935293644666672\n",
      "-0.04934731125831604\n",
      "-0.04934561252593994\n",
      "-0.049351438879966736\n",
      "-0.04935893416404724\n",
      "-0.04934147000312805\n",
      "-0.0493505597114563\n",
      "-0.04933903366327286\n",
      "-0.049345679581165314\n",
      "-0.04935581982135773\n",
      "-0.049349576234817505\n",
      "-0.0493527352809906\n",
      "-0.04934464395046234\n"
     ]
    }
   ],
   "source": [
    "# fix a model with random weights\n",
    "model = DeepSet(in_channels=2, output_channels=1, hidden_dim=128, normalized=True)\n",
    "model.eval()\n",
    "# use the output of a large dimension input as the truth\n",
    "for i in range(20):\n",
    "    X = multivariate_normal.sample((int(1e8),)).unsqueeze(0)\n",
    "    with torch.no_grad():\n",
    "        truth = float(model(X).mean(dim=0))\n",
    "    print(truth)"
   ]
  },
  {
   "cell_type": "code",
   "execution_count": null,
   "metadata": {},
   "outputs": [],
   "source": []
  }
 ],
 "metadata": {
  "kernelspec": {
   "display_name": "ml",
   "language": "python",
   "name": "python3"
  },
  "language_info": {
   "codemirror_mode": {
    "name": "ipython",
    "version": 3
   },
   "file_extension": ".py",
   "mimetype": "text/x-python",
   "name": "python",
   "nbconvert_exporter": "python",
   "pygments_lexer": "ipython3",
   "version": "3.9.18"
  }
 },
 "nbformat": 4,
 "nbformat_minor": 2
}
